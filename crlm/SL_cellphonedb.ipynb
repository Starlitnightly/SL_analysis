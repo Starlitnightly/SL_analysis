{
 "cells": [
  {
   "cell_type": "markdown",
   "metadata": {
    "id": "sw-TQoI1VClT"
   },
   "source": [
    "# import"
   ]
  },
  {
   "cell_type": "code",
   "execution_count": null,
   "metadata": {
    "id": "lRViTEqrUsMf"
   },
   "outputs": [],
   "source": [
    "#!pip install scanpy\n",
    "import numpy as np\n",
    "import pandas as pd\n",
    "import matplotlib.pyplot as pl\n",
    "from matplotlib import rcParams\n",
    "import scanpy as sc"
   ]
  },
  {
   "cell_type": "code",
   "execution_count": null,
   "metadata": {
    "colab": {
     "base_uri": "https://localhost:8080/"
    },
    "id": "A3T62JXWpJpx",
    "outputId": "1b3e72ca-5aa3-4f7b-817c-67dbca228219"
   },
   "outputs": [
    {
     "name": "stdout",
     "output_type": "stream",
     "text": [
      "scanpy==1.9.1 anndata==0.8.0 umap==0.5.3 numpy==1.21.6 scipy==1.4.1 pandas==1.3.5 scikit-learn==1.0.2 statsmodels==0.10.2 pynndescent==0.5.6\n"
     ]
    }
   ],
   "source": [
    "sc.settings.verbosity = 3             # verbosity: errors (0), warnings (1), info (2), hints (3)\n",
    "sc.logging.print_header()\n",
    "sc.settings.set_figure_params(dpi=80, facecolor='white')"
   ]
  },
  {
   "cell_type": "code",
   "execution_count": null,
   "metadata": {
    "colab": {
     "base_uri": "https://localhost:8080/"
    },
    "id": "7nkVlOs1U1Ed",
    "outputId": "407e8c4c-c6d7-429c-b3b3-fb749f165d7f"
   },
   "outputs": [
    {
     "name": "stdout",
     "output_type": "stream",
     "text": [
      "Archive:  CRLM.zip\n",
      "  inflating: CRLM/GSE164522_CRLM_LN.h5ad  \n",
      "  inflating: CRLM/GSE164522_CRLM_MN.h5ad  \n",
      "  inflating: CRLM/GSE164522_CRLM_MT.h5ad  \n",
      "  inflating: CRLM/GSE164522_CRLM_PBMC.h5ad  \n",
      "  inflating: CRLM/GSE164522_CRLM_PN.h5ad  \n",
      "  inflating: CRLM/GSE164522_CRLM_PT.h5ad  \n"
     ]
    }
   ],
   "source": [
    "%%bash\n",
    "cp /content/drive/MyDrive/CRLM/CRLM.zip /content/\n",
    "unzip CRLM.zip"
   ]
  },
  {
   "cell_type": "code",
   "execution_count": null,
   "metadata": {
    "colab": {
     "base_uri": "https://localhost:8080/"
    },
    "id": "_9YF2YjrU-Xw",
    "outputId": "ac50d1d8-4870-4257-dc3e-9198cc0b9e08"
   },
   "outputs": [
    {
     "name": "stdout",
     "output_type": "stream",
     "text": [
      "Cloning into 'SCSA'...\n",
      "remote: Enumerating objects: 154, done.\u001b[K\n",
      "remote: Counting objects: 100% (31/31), done.\u001b[K\n",
      "remote: Compressing objects: 100% (31/31), done.\u001b[K\n",
      "remote: Total 154 (delta 17), reused 0 (delta 0), pack-reused 123\n",
      "Receiving objects: 100% (154/154), 21.19 MiB | 12.18 MiB/s, done.\n",
      "Resolving deltas: 100% (86/86), done.\n"
     ]
    }
   ],
   "source": [
    "!git clone https://github.com/bioinfo-ibms-pumc/SCSA.git"
   ]
  },
  {
   "cell_type": "code",
   "execution_count": null,
   "metadata": {
    "id": "4Gz6HOdBVBlk"
   },
   "outputs": [],
   "source": []
  },
  {
   "cell_type": "markdown",
   "metadata": {
    "id": "yfr3mGdiVE7V"
   },
   "source": [
    "# Analysis"
   ]
  },
  {
   "cell_type": "code",
   "execution_count": null,
   "metadata": {
    "colab": {
     "base_uri": "https://localhost:8080/"
    },
    "id": "Ri9bdBc7VGxA",
    "outputId": "754c7039-902d-41cb-f9a8-be3cf4a2f79a"
   },
   "outputs": [
    {
     "data": {
      "text/plain": [
       "(AnnData object with n_obs × n_vars = 37529 × 24662\n",
       "     obs: 'n_genes', 'percent_mito', 'n_counts', 'louvain', 'sample', 'patient', 'tissue', 'ID', 'celltype_global', 'celltype_major', 'celltype_sub',\n",
       " AnnData object with n_obs × n_vars = 37359 × 24662\n",
       "     obs: 'n_genes', 'percent_mito', 'n_counts', 'louvain', 'sample', 'patient', 'tissue', 'ID', 'celltype_global', 'celltype_major', 'celltype_sub')"
      ]
     },
     "execution_count": 7,
     "metadata": {},
     "output_type": "execute_result"
    }
   ],
   "source": [
    "import anndata\n",
    "adata_PT=anndata.read_h5ad(\"CRLM/GSE164522_CRLM_PT.h5ad\")\n",
    "adata_MT=anndata.read_h5ad(\"CRLM/GSE164522_CRLM_MT.h5ad\")\n",
    "adata_PT,adata_MT"
   ]
  },
  {
   "cell_type": "code",
   "execution_count": null,
   "metadata": {
    "colab": {
     "base_uri": "https://localhost:8080/"
    },
    "id": "4qnXEJYSm5sQ",
    "outputId": "89811bbd-15bc-4f90-a553-0bf97a3aae84"
   },
   "outputs": [
    {
     "data": {
      "text/plain": [
       "{'patient08',\n",
       " 'patient09',\n",
       " 'patient10',\n",
       " 'patient11',\n",
       " 'patient12',\n",
       " 'patient13',\n",
       " 'patient14',\n",
       " 'patient15',\n",
       " 'patient16',\n",
       " 'patient17'}"
      ]
     },
     "execution_count": 22,
     "metadata": {},
     "output_type": "execute_result"
    }
   ],
   "source": [
    "set(adata_PT.obs['patient'])"
   ]
  },
  {
   "cell_type": "code",
   "execution_count": null,
   "metadata": {
    "colab": {
     "base_uri": "https://localhost:8080/"
    },
    "id": "DHUa4uC6p3_x",
    "outputId": "d9b41309-29e9-4a49-fdfc-8e06d8de6f71"
   },
   "outputs": [
    {
     "data": {
      "text/plain": [
       "{'patient08',\n",
       " 'patient09',\n",
       " 'patient10',\n",
       " 'patient11',\n",
       " 'patient12',\n",
       " 'patient13',\n",
       " 'patient14',\n",
       " 'patient15',\n",
       " 'patient16',\n",
       " 'patient17'}"
      ]
     },
     "execution_count": 23,
     "metadata": {},
     "output_type": "execute_result"
    }
   ],
   "source": [
    "set(adata_MT.obs['patient'])"
   ]
  },
  {
   "cell_type": "code",
   "execution_count": null,
   "metadata": {
    "id": "XCoUjhp4bdEw"
   },
   "outputs": [],
   "source": [
    "adata_PT_B=adata_PT[adata_PT.obs['patient'].str.contains('patient10')]\n",
    "adata_MT_B=adata_MT[adata_MT.obs['patient'].str.contains('patient10')]"
   ]
  },
  {
   "cell_type": "code",
   "execution_count": null,
   "metadata": {
    "colab": {
     "base_uri": "https://localhost:8080/"
    },
    "id": "2w2y7qUENV_l",
    "outputId": "d85d6acf-d9a1-4686-e177-57d21a7d6cc1"
   },
   "outputs": [
    {
     "data": {
      "text/plain": [
       "{'CD45-', 'Lymphoid-B', 'Lymphoid-T-NK', 'MAST', 'Myeloid'}"
      ]
     },
     "execution_count": 11,
     "metadata": {},
     "output_type": "execute_result"
    }
   ],
   "source": [
    "set(adata_PT_B.obs['celltype_global'])"
   ]
  },
  {
   "cell_type": "code",
   "execution_count": null,
   "metadata": {
    "colab": {
     "base_uri": "https://localhost:8080/"
    },
    "id": "Op4kj9n5P1PJ",
    "outputId": "ccf4fa59-0d74-480b-dc2e-92adca9f615c"
   },
   "outputs": [
    {
     "name": "stderr",
     "output_type": "stream",
     "text": [
      "/usr/local/lib/python3.7/dist-packages/ipykernel_launcher.py:1: ImplicitModificationWarning: Trying to modify attribute `.obs` of view, initializing view as actual.\n",
      "  \"\"\"Entry point for launching an IPython kernel.\n",
      "/usr/local/lib/python3.7/dist-packages/ipykernel_launcher.py:2: ImplicitModificationWarning: Trying to modify attribute `.obs` of view, initializing view as actual.\n",
      "  \n"
     ]
    }
   ],
   "source": [
    "adata_PT_B.obs['new_sample']='PT'\n",
    "adata_MT_B.obs['new_sample']='MT'"
   ]
  },
  {
   "cell_type": "code",
   "execution_count": null,
   "metadata": {
    "colab": {
     "base_uri": "https://localhost:8080/"
    },
    "id": "-P6RQnYMPYzA",
    "outputId": "e755b685-c154-4f26-ec5b-88e78d9e694b"
   },
   "outputs": [
    {
     "data": {
      "text/plain": [
       "AnnData object with n_obs × n_vars = 5533 × 24662\n",
       "    obs: 'n_genes', 'percent_mito', 'n_counts', 'louvain', 'sample', 'patient', 'tissue', 'ID', 'celltype_global', 'celltype_major', 'celltype_sub', 'new_sample'"
      ]
     },
     "execution_count": 16,
     "metadata": {},
     "output_type": "execute_result"
    }
   ],
   "source": [
    "adata=anndata.concat([adata_PT_B,adata_MT_B])\n",
    "adata"
   ]
  },
  {
   "cell_type": "code",
   "execution_count": null,
   "metadata": {
    "colab": {
     "base_uri": "https://localhost:8080/",
     "height": 357
    },
    "id": "TrsGwctqPs_-",
    "outputId": "70dc7791-e33b-4caa-8d0c-bd732219a811"
   },
   "outputs": [
    {
     "data": {
      "text/html": [
       "\n",
       "  <div id=\"df-81752555-9383-496c-bc57-fab09e156895\">\n",
       "    <div class=\"colab-df-container\">\n",
       "      <div>\n",
       "<style scoped>\n",
       "    .dataframe tbody tr th:only-of-type {\n",
       "        vertical-align: middle;\n",
       "    }\n",
       "\n",
       "    .dataframe tbody tr th {\n",
       "        vertical-align: top;\n",
       "    }\n",
       "\n",
       "    .dataframe thead th {\n",
       "        text-align: right;\n",
       "    }\n",
       "</style>\n",
       "<table border=\"1\" class=\"dataframe\">\n",
       "  <thead>\n",
       "    <tr style=\"text-align: right;\">\n",
       "      <th></th>\n",
       "      <th>n_genes</th>\n",
       "      <th>percent_mito</th>\n",
       "      <th>n_counts</th>\n",
       "      <th>louvain</th>\n",
       "      <th>sample</th>\n",
       "      <th>patient</th>\n",
       "      <th>tissue</th>\n",
       "      <th>ID</th>\n",
       "      <th>celltype_global</th>\n",
       "      <th>celltype_major</th>\n",
       "      <th>celltype_sub</th>\n",
       "      <th>new_sample</th>\n",
       "    </tr>\n",
       "  </thead>\n",
       "  <tbody>\n",
       "    <tr>\n",
       "      <th>AAACCTGAGCCGATTT-19</th>\n",
       "      <td>2878</td>\n",
       "      <td>0.030947</td>\n",
       "      <td>3013.5530</td>\n",
       "      <td>17</td>\n",
       "      <td>primary tumor</td>\n",
       "      <td>patient10</td>\n",
       "      <td>primary tumor</td>\n",
       "      <td>19</td>\n",
       "      <td>Lymphoid-T-NK</td>\n",
       "      <td>CD4 T</td>\n",
       "      <td>hC29_CD4_MKI67</td>\n",
       "      <td>PT</td>\n",
       "    </tr>\n",
       "    <tr>\n",
       "      <th>AAACCTGAGCTATGCT-19</th>\n",
       "      <td>1899</td>\n",
       "      <td>0.024070</td>\n",
       "      <td>2656.1940</td>\n",
       "      <td>1</td>\n",
       "      <td>primary tumor</td>\n",
       "      <td>patient10</td>\n",
       "      <td>primary tumor</td>\n",
       "      <td>19</td>\n",
       "      <td>Lymphoid-T-NK</td>\n",
       "      <td>CD4 T</td>\n",
       "      <td>hC22_CD4_Trm-CXCR6</td>\n",
       "      <td>PT</td>\n",
       "    </tr>\n",
       "    <tr>\n",
       "      <th>AAACCTGGTAGGCATG-19</th>\n",
       "      <td>2438</td>\n",
       "      <td>0.040717</td>\n",
       "      <td>2943.3118</td>\n",
       "      <td>25</td>\n",
       "      <td>primary tumor</td>\n",
       "      <td>patient10</td>\n",
       "      <td>primary tumor</td>\n",
       "      <td>19</td>\n",
       "      <td>Myeloid</td>\n",
       "      <td>Monocyte</td>\n",
       "      <td>hC43_MonoDC-CLEC10A</td>\n",
       "      <td>PT</td>\n",
       "    </tr>\n",
       "    <tr>\n",
       "      <th>AAACCTGGTCCATCCT-19</th>\n",
       "      <td>2462</td>\n",
       "      <td>0.027618</td>\n",
       "      <td>3104.0470</td>\n",
       "      <td>12</td>\n",
       "      <td>primary tumor</td>\n",
       "      <td>patient10</td>\n",
       "      <td>primary tumor</td>\n",
       "      <td>19</td>\n",
       "      <td>Lymphoid-T-NK</td>\n",
       "      <td>CD4 T</td>\n",
       "      <td>hC26_CD4_Tfr-IL10</td>\n",
       "      <td>PT</td>\n",
       "    </tr>\n",
       "    <tr>\n",
       "      <th>AAACCTGGTTACGGAG-19</th>\n",
       "      <td>1442</td>\n",
       "      <td>0.039368</td>\n",
       "      <td>2523.7500</td>\n",
       "      <td>13</td>\n",
       "      <td>primary tumor</td>\n",
       "      <td>patient10</td>\n",
       "      <td>primary tumor</td>\n",
       "      <td>19</td>\n",
       "      <td>Lymphoid-T-NK</td>\n",
       "      <td>CD8 T</td>\n",
       "      <td>hC07_CD8_IEL-CD160</td>\n",
       "      <td>PT</td>\n",
       "    </tr>\n",
       "  </tbody>\n",
       "</table>\n",
       "</div>\n",
       "      <button class=\"colab-df-convert\" onclick=\"convertToInteractive('df-81752555-9383-496c-bc57-fab09e156895')\"\n",
       "              title=\"Convert this dataframe to an interactive table.\"\n",
       "              style=\"display:none;\">\n",
       "        \n",
       "  <svg xmlns=\"http://www.w3.org/2000/svg\" height=\"24px\"viewBox=\"0 0 24 24\"\n",
       "       width=\"24px\">\n",
       "    <path d=\"M0 0h24v24H0V0z\" fill=\"none\"/>\n",
       "    <path d=\"M18.56 5.44l.94 2.06.94-2.06 2.06-.94-2.06-.94-.94-2.06-.94 2.06-2.06.94zm-11 1L8.5 8.5l.94-2.06 2.06-.94-2.06-.94L8.5 2.5l-.94 2.06-2.06.94zm10 10l.94 2.06.94-2.06 2.06-.94-2.06-.94-.94-2.06-.94 2.06-2.06.94z\"/><path d=\"M17.41 7.96l-1.37-1.37c-.4-.4-.92-.59-1.43-.59-.52 0-1.04.2-1.43.59L10.3 9.45l-7.72 7.72c-.78.78-.78 2.05 0 2.83L4 21.41c.39.39.9.59 1.41.59.51 0 1.02-.2 1.41-.59l7.78-7.78 2.81-2.81c.8-.78.8-2.07 0-2.86zM5.41 20L4 18.59l7.72-7.72 1.47 1.35L5.41 20z\"/>\n",
       "  </svg>\n",
       "      </button>\n",
       "      \n",
       "  <style>\n",
       "    .colab-df-container {\n",
       "      display:flex;\n",
       "      flex-wrap:wrap;\n",
       "      gap: 12px;\n",
       "    }\n",
       "\n",
       "    .colab-df-convert {\n",
       "      background-color: #E8F0FE;\n",
       "      border: none;\n",
       "      border-radius: 50%;\n",
       "      cursor: pointer;\n",
       "      display: none;\n",
       "      fill: #1967D2;\n",
       "      height: 32px;\n",
       "      padding: 0 0 0 0;\n",
       "      width: 32px;\n",
       "    }\n",
       "\n",
       "    .colab-df-convert:hover {\n",
       "      background-color: #E2EBFA;\n",
       "      box-shadow: 0px 1px 2px rgba(60, 64, 67, 0.3), 0px 1px 3px 1px rgba(60, 64, 67, 0.15);\n",
       "      fill: #174EA6;\n",
       "    }\n",
       "\n",
       "    [theme=dark] .colab-df-convert {\n",
       "      background-color: #3B4455;\n",
       "      fill: #D2E3FC;\n",
       "    }\n",
       "\n",
       "    [theme=dark] .colab-df-convert:hover {\n",
       "      background-color: #434B5C;\n",
       "      box-shadow: 0px 1px 3px 1px rgba(0, 0, 0, 0.15);\n",
       "      filter: drop-shadow(0px 1px 2px rgba(0, 0, 0, 0.3));\n",
       "      fill: #FFFFFF;\n",
       "    }\n",
       "  </style>\n",
       "\n",
       "      <script>\n",
       "        const buttonEl =\n",
       "          document.querySelector('#df-81752555-9383-496c-bc57-fab09e156895 button.colab-df-convert');\n",
       "        buttonEl.style.display =\n",
       "          google.colab.kernel.accessAllowed ? 'block' : 'none';\n",
       "\n",
       "        async function convertToInteractive(key) {\n",
       "          const element = document.querySelector('#df-81752555-9383-496c-bc57-fab09e156895');\n",
       "          const dataTable =\n",
       "            await google.colab.kernel.invokeFunction('convertToInteractive',\n",
       "                                                     [key], {});\n",
       "          if (!dataTable) return;\n",
       "\n",
       "          const docLinkHtml = 'Like what you see? Visit the ' +\n",
       "            '<a target=\"_blank\" href=https://colab.research.google.com/notebooks/data_table.ipynb>data table notebook</a>'\n",
       "            + ' to learn more about interactive tables.';\n",
       "          element.innerHTML = '';\n",
       "          dataTable['output_type'] = 'display_data';\n",
       "          await google.colab.output.renderOutput(dataTable, element);\n",
       "          const docLink = document.createElement('div');\n",
       "          docLink.innerHTML = docLinkHtml;\n",
       "          element.appendChild(docLink);\n",
       "        }\n",
       "      </script>\n",
       "    </div>\n",
       "  </div>\n",
       "  "
      ],
      "text/plain": [
       "                     n_genes  percent_mito   n_counts  louvain         sample  \\\n",
       "AAACCTGAGCCGATTT-19     2878      0.030947  3013.5530       17  primary tumor   \n",
       "AAACCTGAGCTATGCT-19     1899      0.024070  2656.1940        1  primary tumor   \n",
       "AAACCTGGTAGGCATG-19     2438      0.040717  2943.3118       25  primary tumor   \n",
       "AAACCTGGTCCATCCT-19     2462      0.027618  3104.0470       12  primary tumor   \n",
       "AAACCTGGTTACGGAG-19     1442      0.039368  2523.7500       13  primary tumor   \n",
       "\n",
       "                       patient         tissue  ID celltype_global  \\\n",
       "AAACCTGAGCCGATTT-19  patient10  primary tumor  19   Lymphoid-T-NK   \n",
       "AAACCTGAGCTATGCT-19  patient10  primary tumor  19   Lymphoid-T-NK   \n",
       "AAACCTGGTAGGCATG-19  patient10  primary tumor  19         Myeloid   \n",
       "AAACCTGGTCCATCCT-19  patient10  primary tumor  19   Lymphoid-T-NK   \n",
       "AAACCTGGTTACGGAG-19  patient10  primary tumor  19   Lymphoid-T-NK   \n",
       "\n",
       "                    celltype_major         celltype_sub new_sample  \n",
       "AAACCTGAGCCGATTT-19          CD4 T       hC29_CD4_MKI67         PT  \n",
       "AAACCTGAGCTATGCT-19          CD4 T   hC22_CD4_Trm-CXCR6         PT  \n",
       "AAACCTGGTAGGCATG-19       Monocyte  hC43_MonoDC-CLEC10A         PT  \n",
       "AAACCTGGTCCATCCT-19          CD4 T    hC26_CD4_Tfr-IL10         PT  \n",
       "AAACCTGGTTACGGAG-19          CD8 T   hC07_CD8_IEL-CD160         PT  "
      ]
     },
     "execution_count": 17,
     "metadata": {},
     "output_type": "execute_result"
    }
   ],
   "source": [
    "adata.obs.head()"
   ]
  },
  {
   "cell_type": "code",
   "execution_count": null,
   "metadata": {
    "id": "Fu2d1E1YPiMT"
   },
   "outputs": [],
   "source": [
    "adata_w=adata.obs['new_sample']+'-'+adata.obs['celltype_global'].astype(str)\n",
    "adata_w.to_csv('adata_meta.txt',sep='\\t')"
   ]
  },
  {
   "cell_type": "code",
   "execution_count": null,
   "metadata": {
    "id": "CCt1qPqsQgLV"
   },
   "outputs": [],
   "source": [
    "adata_count=adata.to_df()\n",
    "adata_count.T.to_csv('adata_count.txt',sep='\\t')"
   ]
  },
  {
   "cell_type": "code",
   "execution_count": null,
   "metadata": {
    "colab": {
     "background_save": true,
     "base_uri": "https://localhost:8080/"
    },
    "id": "OYjoWLwhQqLw",
    "outputId": "3957866e-c2d7-4837-e40b-86ea6045bb5a"
   },
   "outputs": [
    {
     "name": "stdout",
     "output_type": "stream",
     "text": [
      "[ ][APP][08/05/22-15:24:04][WARNING] Latest local available version is `v2.0.0`, using it\n",
      "[ ][APP][08/05/22-15:24:04][WARNING] User selected downloaded database `v2.0.0` is available, using it\n",
      "[ ][CORE][08/05/22-15:24:04][INFO] Initializing SqlAlchemy CellPhoneDB Core\n",
      "[ ][CORE][08/05/22-15:24:04][INFO] Using custom database at /root/.cpdb/releases/v2.0.0/cellphone.db\n",
      "[ ][APP][08/05/22-15:24:04][INFO] Launching Method cpdb_statistical_analysis_local_method_launcher\n",
      "[ ][APP][08/05/22-15:24:04][INFO] Launching Method _set_paths\n",
      "[ ][APP][08/05/22-15:24:04][INFO] Launching Method _load_meta_counts\n",
      "tcmalloc: large alloc 1091641344 bytes == 0x5bf92000 @  0x7f768829f1e7 0x7f7685a9d46e 0x7f7685aedc7b 0x7f7685aee35f 0x7f7685b90103 0x593835 0x548c51 0x5127f1 0x593dd7 0x5118f8 0x549576 0x593fce 0x5118f8 0x593dd7 0x5118f8 0x593dd7 0x5118f8 0x549576 0x593fce 0x548ae9 0x5127f1 0x549e0e 0x593fce 0x548ae9 0x5127f1 0x549e0e 0x4bca8a 0x532b86 0x594a96 0x548cc1 0x5127f1\n",
      "[ ][APP][08/05/22-15:24:35][INFO] Launching Method _check_counts_data\n",
      "[ ][CORE][08/05/22-15:24:35][INFO] Launching Method cpdb_statistical_analysis_launcher\n",
      "[ ][CORE][08/05/22-15:24:35][INFO] Launching Method _counts_validations\n",
      "[ ][CORE][08/05/22-15:24:36][INFO] Launching Method get_interactions_genes_complex\n",
      "[ ][CORE][08/05/22-15:24:37][INFO] [Cluster Statistical Analysis] Threshold:0.1 Iterations:1000 Debug-seed:-1 Threads:4 Precision:3\n",
      "[ ][CORE][08/05/22-15:24:39][INFO] Running Real Analysis\n",
      "[ ][CORE][08/05/22-15:24:39][INFO] Running Statistical Analysis\n",
      "[ ][CORE][08/05/22-15:51:58][INFO] Building Pvalues result\n",
      "[ ][CORE][08/05/22-15:51:59][INFO] Building results\n",
      "  adding: content/out/ (stored 0%)\n",
      "  adding: content/out/significant_means.txt (deflated 84%)\n",
      "  adding: content/out/deconvoluted.txt (deflated 83%)\n",
      "  adding: content/out/means.txt (deflated 83%)\n",
      "  adding: content/out/pvalues.txt (deflated 94%)\n"
     ]
    }
   ],
   "source": [
    "!cellphonedb method statistical_analysis /content/adata_meta.txt /content/adata_count.txt --counts-data=gene_name --threads 4\n",
    "!zip -r cellphonedb_crlm_out.zip /content/out "
   ]
  },
  {
   "cell_type": "code",
   "execution_count": null,
   "metadata": {
    "colab": {
     "base_uri": "https://localhost:8080/",
     "height": 270
    },
    "id": "Vnp2iuDbuvhu",
    "outputId": "42f1f903-c3fa-4e0f-fd89-646999247575"
   },
   "outputs": [
    {
     "data": {
      "text/html": [
       "\n",
       "  <div id=\"df-c77cf5b3-362a-4395-9106-babf9c656a6d\">\n",
       "    <div class=\"colab-df-container\">\n",
       "      <div>\n",
       "<style scoped>\n",
       "    .dataframe tbody tr th:only-of-type {\n",
       "        vertical-align: middle;\n",
       "    }\n",
       "\n",
       "    .dataframe tbody tr th {\n",
       "        vertical-align: top;\n",
       "    }\n",
       "\n",
       "    .dataframe thead th {\n",
       "        text-align: right;\n",
       "    }\n",
       "</style>\n",
       "<table border=\"1\" class=\"dataframe\">\n",
       "  <thead>\n",
       "    <tr style=\"text-align: right;\">\n",
       "      <th></th>\n",
       "      <th>gene_a.name</th>\n",
       "      <th>gene_a.identifier</th>\n",
       "      <th>gene_b.name</th>\n",
       "      <th>gene_b.identifier</th>\n",
       "      <th>NonSL.cell_line</th>\n",
       "      <th>NonSL.pubmed_id</th>\n",
       "      <th>NonSL.source</th>\n",
       "      <th>NonSL.statistic_score</th>\n",
       "    </tr>\n",
       "  </thead>\n",
       "  <tbody>\n",
       "    <tr>\n",
       "      <th>0</th>\n",
       "      <td>BRCA1</td>\n",
       "      <td>672</td>\n",
       "      <td>CHEK2</td>\n",
       "      <td>11200</td>\n",
       "      <td>A549</td>\n",
       "      <td>31300006</td>\n",
       "      <td>CRISPR/CRISPRi</td>\n",
       "      <td>0.69</td>\n",
       "    </tr>\n",
       "    <tr>\n",
       "      <th>1</th>\n",
       "      <td>BRCA2</td>\n",
       "      <td>675</td>\n",
       "      <td>CHEK2</td>\n",
       "      <td>11200</td>\n",
       "      <td>786O</td>\n",
       "      <td>31300006</td>\n",
       "      <td>CRISPR/CRISPRi</td>\n",
       "      <td>0.38</td>\n",
       "    </tr>\n",
       "    <tr>\n",
       "      <th>2</th>\n",
       "      <td>AKT1</td>\n",
       "      <td>207</td>\n",
       "      <td>CHEK2</td>\n",
       "      <td>11200</td>\n",
       "      <td>A549</td>\n",
       "      <td>31300006</td>\n",
       "      <td>CRISPR/CRISPRi</td>\n",
       "      <td>0.69</td>\n",
       "    </tr>\n",
       "    <tr>\n",
       "      <th>3</th>\n",
       "      <td>CHEK1</td>\n",
       "      <td>1111</td>\n",
       "      <td>CHEK2</td>\n",
       "      <td>11200</td>\n",
       "      <td>A375</td>\n",
       "      <td>31300006</td>\n",
       "      <td>CRISPR/CRISPRi</td>\n",
       "      <td>1.00</td>\n",
       "    </tr>\n",
       "    <tr>\n",
       "      <th>4</th>\n",
       "      <td>CDC73</td>\n",
       "      <td>79577</td>\n",
       "      <td>CNOT1</td>\n",
       "      <td>23019</td>\n",
       "      <td>K562</td>\n",
       "      <td>31300006</td>\n",
       "      <td>CRISPR/CRISPRi</td>\n",
       "      <td>0.13</td>\n",
       "    </tr>\n",
       "  </tbody>\n",
       "</table>\n",
       "</div>\n",
       "      <button class=\"colab-df-convert\" onclick=\"convertToInteractive('df-c77cf5b3-362a-4395-9106-babf9c656a6d')\"\n",
       "              title=\"Convert this dataframe to an interactive table.\"\n",
       "              style=\"display:none;\">\n",
       "        \n",
       "  <svg xmlns=\"http://www.w3.org/2000/svg\" height=\"24px\"viewBox=\"0 0 24 24\"\n",
       "       width=\"24px\">\n",
       "    <path d=\"M0 0h24v24H0V0z\" fill=\"none\"/>\n",
       "    <path d=\"M18.56 5.44l.94 2.06.94-2.06 2.06-.94-2.06-.94-.94-2.06-.94 2.06-2.06.94zm-11 1L8.5 8.5l.94-2.06 2.06-.94-2.06-.94L8.5 2.5l-.94 2.06-2.06.94zm10 10l.94 2.06.94-2.06 2.06-.94-2.06-.94-.94-2.06-.94 2.06-2.06.94z\"/><path d=\"M17.41 7.96l-1.37-1.37c-.4-.4-.92-.59-1.43-.59-.52 0-1.04.2-1.43.59L10.3 9.45l-7.72 7.72c-.78.78-.78 2.05 0 2.83L4 21.41c.39.39.9.59 1.41.59.51 0 1.02-.2 1.41-.59l7.78-7.78 2.81-2.81c.8-.78.8-2.07 0-2.86zM5.41 20L4 18.59l7.72-7.72 1.47 1.35L5.41 20z\"/>\n",
       "  </svg>\n",
       "      </button>\n",
       "      \n",
       "  <style>\n",
       "    .colab-df-container {\n",
       "      display:flex;\n",
       "      flex-wrap:wrap;\n",
       "      gap: 12px;\n",
       "    }\n",
       "\n",
       "    .colab-df-convert {\n",
       "      background-color: #E8F0FE;\n",
       "      border: none;\n",
       "      border-radius: 50%;\n",
       "      cursor: pointer;\n",
       "      display: none;\n",
       "      fill: #1967D2;\n",
       "      height: 32px;\n",
       "      padding: 0 0 0 0;\n",
       "      width: 32px;\n",
       "    }\n",
       "\n",
       "    .colab-df-convert:hover {\n",
       "      background-color: #E2EBFA;\n",
       "      box-shadow: 0px 1px 2px rgba(60, 64, 67, 0.3), 0px 1px 3px 1px rgba(60, 64, 67, 0.15);\n",
       "      fill: #174EA6;\n",
       "    }\n",
       "\n",
       "    [theme=dark] .colab-df-convert {\n",
       "      background-color: #3B4455;\n",
       "      fill: #D2E3FC;\n",
       "    }\n",
       "\n",
       "    [theme=dark] .colab-df-convert:hover {\n",
       "      background-color: #434B5C;\n",
       "      box-shadow: 0px 1px 3px 1px rgba(0, 0, 0, 0.15);\n",
       "      filter: drop-shadow(0px 1px 2px rgba(0, 0, 0, 0.3));\n",
       "      fill: #FFFFFF;\n",
       "    }\n",
       "  </style>\n",
       "\n",
       "      <script>\n",
       "        const buttonEl =\n",
       "          document.querySelector('#df-c77cf5b3-362a-4395-9106-babf9c656a6d button.colab-df-convert');\n",
       "        buttonEl.style.display =\n",
       "          google.colab.kernel.accessAllowed ? 'block' : 'none';\n",
       "\n",
       "        async function convertToInteractive(key) {\n",
       "          const element = document.querySelector('#df-c77cf5b3-362a-4395-9106-babf9c656a6d');\n",
       "          const dataTable =\n",
       "            await google.colab.kernel.invokeFunction('convertToInteractive',\n",
       "                                                     [key], {});\n",
       "          if (!dataTable) return;\n",
       "\n",
       "          const docLinkHtml = 'Like what you see? Visit the ' +\n",
       "            '<a target=\"_blank\" href=https://colab.research.google.com/notebooks/data_table.ipynb>data table notebook</a>'\n",
       "            + ' to learn more about interactive tables.';\n",
       "          element.innerHTML = '';\n",
       "          dataTable['output_type'] = 'display_data';\n",
       "          await google.colab.output.renderOutput(dataTable, element);\n",
       "          const docLink = document.createElement('div');\n",
       "          docLink.innerHTML = docLinkHtml;\n",
       "          element.appendChild(docLink);\n",
       "        }\n",
       "      </script>\n",
       "    </div>\n",
       "  </div>\n",
       "  "
      ],
      "text/plain": [
       "  gene_a.name  gene_a.identifier gene_b.name  gene_b.identifier  \\\n",
       "0       BRCA1                672       CHEK2              11200   \n",
       "1       BRCA2                675       CHEK2              11200   \n",
       "2        AKT1                207       CHEK2              11200   \n",
       "3       CHEK1               1111       CHEK2              11200   \n",
       "4       CDC73              79577       CNOT1              23019   \n",
       "\n",
       "  NonSL.cell_line  NonSL.pubmed_id    NonSL.source  NonSL.statistic_score  \n",
       "0            A549         31300006  CRISPR/CRISPRi                   0.69  \n",
       "1            786O         31300006  CRISPR/CRISPRi                   0.38  \n",
       "2            A549         31300006  CRISPR/CRISPRi                   0.69  \n",
       "3            A375         31300006  CRISPR/CRISPRi                   1.00  \n",
       "4            K562         31300006  CRISPR/CRISPRi                   0.13  "
      ]
     },
     "execution_count": 81,
     "metadata": {},
     "output_type": "execute_result"
    }
   ],
   "source": [
    "nonSL=pd.read_csv('/content/Human_nonSL.csv')\n",
    "nonSL.head()"
   ]
  },
  {
   "cell_type": "code",
   "execution_count": null,
   "metadata": {
    "colab": {
     "base_uri": "https://localhost:8080/"
    },
    "id": "3qE1oV4xuz43",
    "outputId": "e66786d5-760b-4957-d2e1-42be8224cc1f"
   },
   "outputs": [
    {
     "data": {
      "text/plain": [
       "['SEC22B', 'COPA', 'NOL9', 'DNMT1', 'EXOSC6']"
      ]
     },
     "execution_count": 86,
     "metadata": {},
     "output_type": "execute_result"
    }
   ],
   "source": [
    "all_nonSL_gene=list(set(nonSL['gene_a.name']) & set(nonSL['gene_b.name']) & set(adata_concat.var_names))\n",
    "all_nonSL_gene[:5]"
   ]
  },
  {
   "cell_type": "code",
   "execution_count": null,
   "metadata": {
    "colab": {
     "base_uri": "https://localhost:8080/",
     "height": 487
    },
    "id": "MdCkbSjXwqPR",
    "outputId": "09db0b03-e026-4b64-d3a2-2a66085946a1"
   },
   "outputs": [
    {
     "data": {
      "text/html": [
       "\n",
       "  <div id=\"df-584670d2-e2eb-463a-9cb3-5136016357b7\">\n",
       "    <div class=\"colab-df-container\">\n",
       "      <div>\n",
       "<style scoped>\n",
       "    .dataframe tbody tr th:only-of-type {\n",
       "        vertical-align: middle;\n",
       "    }\n",
       "\n",
       "    .dataframe tbody tr th {\n",
       "        vertical-align: top;\n",
       "    }\n",
       "\n",
       "    .dataframe thead th {\n",
       "        text-align: right;\n",
       "    }\n",
       "</style>\n",
       "<table border=\"1\" class=\"dataframe\">\n",
       "  <thead>\n",
       "    <tr style=\"text-align: right;\">\n",
       "      <th></th>\n",
       "      <th>gene_a.name</th>\n",
       "      <th>gene_a.identifier</th>\n",
       "      <th>gene_b.name</th>\n",
       "      <th>gene_b.identifier</th>\n",
       "      <th>NonSL.cell_line</th>\n",
       "      <th>NonSL.pubmed_id</th>\n",
       "      <th>NonSL.source</th>\n",
       "      <th>NonSL.statistic_score</th>\n",
       "    </tr>\n",
       "  </thead>\n",
       "  <tbody>\n",
       "    <tr>\n",
       "      <th>0</th>\n",
       "      <td>AKT1</td>\n",
       "      <td>207</td>\n",
       "      <td>CHEK2</td>\n",
       "      <td>11200</td>\n",
       "      <td>A549</td>\n",
       "      <td>31300006</td>\n",
       "      <td>CRISPR/CRISPRi</td>\n",
       "      <td>0.69</td>\n",
       "    </tr>\n",
       "    <tr>\n",
       "      <th>1</th>\n",
       "      <td>CHEK1</td>\n",
       "      <td>1111</td>\n",
       "      <td>CHEK2</td>\n",
       "      <td>11200</td>\n",
       "      <td>A375</td>\n",
       "      <td>31300006</td>\n",
       "      <td>CRISPR/CRISPRi</td>\n",
       "      <td>1.00</td>\n",
       "    </tr>\n",
       "    <tr>\n",
       "      <th>2</th>\n",
       "      <td>CDC73</td>\n",
       "      <td>79577</td>\n",
       "      <td>CNOT1</td>\n",
       "      <td>23019</td>\n",
       "      <td>K562</td>\n",
       "      <td>31300006</td>\n",
       "      <td>CRISPR/CRISPRi</td>\n",
       "      <td>0.13</td>\n",
       "    </tr>\n",
       "    <tr>\n",
       "      <th>3</th>\n",
       "      <td>CDK1</td>\n",
       "      <td>983</td>\n",
       "      <td>CNOT1</td>\n",
       "      <td>23019</td>\n",
       "      <td>Jurkat</td>\n",
       "      <td>31300006</td>\n",
       "      <td>CRISPR/CRISPRi</td>\n",
       "      <td>0.01</td>\n",
       "    </tr>\n",
       "    <tr>\n",
       "      <th>4</th>\n",
       "      <td>BTF3</td>\n",
       "      <td>689</td>\n",
       "      <td>CNOT1</td>\n",
       "      <td>23019</td>\n",
       "      <td>K562</td>\n",
       "      <td>31300006</td>\n",
       "      <td>CRISPR/CRISPRi</td>\n",
       "      <td>0.16</td>\n",
       "    </tr>\n",
       "    <tr>\n",
       "      <th>...</th>\n",
       "      <td>...</td>\n",
       "      <td>...</td>\n",
       "      <td>...</td>\n",
       "      <td>...</td>\n",
       "      <td>...</td>\n",
       "      <td>...</td>\n",
       "      <td>...</td>\n",
       "      <td>...</td>\n",
       "    </tr>\n",
       "    <tr>\n",
       "      <th>1934</th>\n",
       "      <td>NDUFA2</td>\n",
       "      <td>4695</td>\n",
       "      <td>SPATA5</td>\n",
       "      <td>166378</td>\n",
       "      <td>Jurkat</td>\n",
       "      <td>31300006</td>\n",
       "      <td>CRISPR/CRISPRi</td>\n",
       "      <td>0.04</td>\n",
       "    </tr>\n",
       "    <tr>\n",
       "      <th>1935</th>\n",
       "      <td>MRPL11</td>\n",
       "      <td>65003</td>\n",
       "      <td>SPATA5</td>\n",
       "      <td>166378</td>\n",
       "      <td>Jurkat</td>\n",
       "      <td>31300006</td>\n",
       "      <td>CRISPR/CRISPRi</td>\n",
       "      <td>0.00</td>\n",
       "    </tr>\n",
       "    <tr>\n",
       "      <th>1936</th>\n",
       "      <td>CDK1</td>\n",
       "      <td>983</td>\n",
       "      <td>SPATA5</td>\n",
       "      <td>166378</td>\n",
       "      <td>Jurkat</td>\n",
       "      <td>31300006</td>\n",
       "      <td>CRISPR/CRISPRi</td>\n",
       "      <td>0.04</td>\n",
       "    </tr>\n",
       "    <tr>\n",
       "      <th>1937</th>\n",
       "      <td>BUB1B</td>\n",
       "      <td>701</td>\n",
       "      <td>CEP63</td>\n",
       "      <td>80254</td>\n",
       "      <td>K562</td>\n",
       "      <td>31300006</td>\n",
       "      <td>CRISPR/CRISPRi</td>\n",
       "      <td>0.14</td>\n",
       "    </tr>\n",
       "    <tr>\n",
       "      <th>1938</th>\n",
       "      <td>CDC26</td>\n",
       "      <td>246184</td>\n",
       "      <td>CEP63</td>\n",
       "      <td>80254</td>\n",
       "      <td>Jurkat</td>\n",
       "      <td>31300006</td>\n",
       "      <td>CRISPR/CRISPRi</td>\n",
       "      <td>0.06</td>\n",
       "    </tr>\n",
       "  </tbody>\n",
       "</table>\n",
       "<p>1939 rows × 8 columns</p>\n",
       "</div>\n",
       "      <button class=\"colab-df-convert\" onclick=\"convertToInteractive('df-584670d2-e2eb-463a-9cb3-5136016357b7')\"\n",
       "              title=\"Convert this dataframe to an interactive table.\"\n",
       "              style=\"display:none;\">\n",
       "        \n",
       "  <svg xmlns=\"http://www.w3.org/2000/svg\" height=\"24px\"viewBox=\"0 0 24 24\"\n",
       "       width=\"24px\">\n",
       "    <path d=\"M0 0h24v24H0V0z\" fill=\"none\"/>\n",
       "    <path d=\"M18.56 5.44l.94 2.06.94-2.06 2.06-.94-2.06-.94-.94-2.06-.94 2.06-2.06.94zm-11 1L8.5 8.5l.94-2.06 2.06-.94-2.06-.94L8.5 2.5l-.94 2.06-2.06.94zm10 10l.94 2.06.94-2.06 2.06-.94-2.06-.94-.94-2.06-.94 2.06-2.06.94z\"/><path d=\"M17.41 7.96l-1.37-1.37c-.4-.4-.92-.59-1.43-.59-.52 0-1.04.2-1.43.59L10.3 9.45l-7.72 7.72c-.78.78-.78 2.05 0 2.83L4 21.41c.39.39.9.59 1.41.59.51 0 1.02-.2 1.41-.59l7.78-7.78 2.81-2.81c.8-.78.8-2.07 0-2.86zM5.41 20L4 18.59l7.72-7.72 1.47 1.35L5.41 20z\"/>\n",
       "  </svg>\n",
       "      </button>\n",
       "      \n",
       "  <style>\n",
       "    .colab-df-container {\n",
       "      display:flex;\n",
       "      flex-wrap:wrap;\n",
       "      gap: 12px;\n",
       "    }\n",
       "\n",
       "    .colab-df-convert {\n",
       "      background-color: #E8F0FE;\n",
       "      border: none;\n",
       "      border-radius: 50%;\n",
       "      cursor: pointer;\n",
       "      display: none;\n",
       "      fill: #1967D2;\n",
       "      height: 32px;\n",
       "      padding: 0 0 0 0;\n",
       "      width: 32px;\n",
       "    }\n",
       "\n",
       "    .colab-df-convert:hover {\n",
       "      background-color: #E2EBFA;\n",
       "      box-shadow: 0px 1px 2px rgba(60, 64, 67, 0.3), 0px 1px 3px 1px rgba(60, 64, 67, 0.15);\n",
       "      fill: #174EA6;\n",
       "    }\n",
       "\n",
       "    [theme=dark] .colab-df-convert {\n",
       "      background-color: #3B4455;\n",
       "      fill: #D2E3FC;\n",
       "    }\n",
       "\n",
       "    [theme=dark] .colab-df-convert:hover {\n",
       "      background-color: #434B5C;\n",
       "      box-shadow: 0px 1px 3px 1px rgba(0, 0, 0, 0.15);\n",
       "      filter: drop-shadow(0px 1px 2px rgba(0, 0, 0, 0.3));\n",
       "      fill: #FFFFFF;\n",
       "    }\n",
       "  </style>\n",
       "\n",
       "      <script>\n",
       "        const buttonEl =\n",
       "          document.querySelector('#df-584670d2-e2eb-463a-9cb3-5136016357b7 button.colab-df-convert');\n",
       "        buttonEl.style.display =\n",
       "          google.colab.kernel.accessAllowed ? 'block' : 'none';\n",
       "\n",
       "        async function convertToInteractive(key) {\n",
       "          const element = document.querySelector('#df-584670d2-e2eb-463a-9cb3-5136016357b7');\n",
       "          const dataTable =\n",
       "            await google.colab.kernel.invokeFunction('convertToInteractive',\n",
       "                                                     [key], {});\n",
       "          if (!dataTable) return;\n",
       "\n",
       "          const docLinkHtml = 'Like what you see? Visit the ' +\n",
       "            '<a target=\"_blank\" href=https://colab.research.google.com/notebooks/data_table.ipynb>data table notebook</a>'\n",
       "            + ' to learn more about interactive tables.';\n",
       "          element.innerHTML = '';\n",
       "          dataTable['output_type'] = 'display_data';\n",
       "          await google.colab.output.renderOutput(dataTable, element);\n",
       "          const docLink = document.createElement('div');\n",
       "          docLink.innerHTML = docLinkHtml;\n",
       "          element.appendChild(docLink);\n",
       "        }\n",
       "      </script>\n",
       "    </div>\n",
       "  </div>\n",
       "  "
      ],
      "text/plain": [
       "     gene_a.name  gene_a.identifier gene_b.name  gene_b.identifier  \\\n",
       "0           AKT1                207       CHEK2              11200   \n",
       "1          CHEK1               1111       CHEK2              11200   \n",
       "2          CDC73              79577       CNOT1              23019   \n",
       "3           CDK1                983       CNOT1              23019   \n",
       "4           BTF3                689       CNOT1              23019   \n",
       "...          ...                ...         ...                ...   \n",
       "1934      NDUFA2               4695      SPATA5             166378   \n",
       "1935      MRPL11              65003      SPATA5             166378   \n",
       "1936        CDK1                983      SPATA5             166378   \n",
       "1937       BUB1B                701       CEP63              80254   \n",
       "1938       CDC26             246184       CEP63              80254   \n",
       "\n",
       "     NonSL.cell_line  NonSL.pubmed_id    NonSL.source  NonSL.statistic_score  \n",
       "0               A549         31300006  CRISPR/CRISPRi                   0.69  \n",
       "1               A375         31300006  CRISPR/CRISPRi                   1.00  \n",
       "2               K562         31300006  CRISPR/CRISPRi                   0.13  \n",
       "3             Jurkat         31300006  CRISPR/CRISPRi                   0.01  \n",
       "4               K562         31300006  CRISPR/CRISPRi                   0.16  \n",
       "...              ...              ...             ...                    ...  \n",
       "1934          Jurkat         31300006  CRISPR/CRISPRi                   0.04  \n",
       "1935          Jurkat         31300006  CRISPR/CRISPRi                   0.00  \n",
       "1936          Jurkat         31300006  CRISPR/CRISPRi                   0.04  \n",
       "1937            K562         31300006  CRISPR/CRISPRi                   0.14  \n",
       "1938          Jurkat         31300006  CRISPR/CRISPRi                   0.06  \n",
       "\n",
       "[1939 rows x 8 columns]"
      ]
     },
     "execution_count": 102,
     "metadata": {},
     "output_type": "execute_result"
    }
   ],
   "source": [
    "nonSL_res=nonSL[nonSL['gene_a.name'].isin(all_nonSL_gene) & nonSL['gene_b.name'].isin(all_nonSL_gene)]\n",
    "nonSL_res.index=range(len(nonSL_res))\n",
    "nonSL_res"
   ]
  },
  {
   "cell_type": "code",
   "execution_count": null,
   "metadata": {
    "id": "vpTjRT9Exqf7"
   },
   "outputs": [],
   "source": [
    "for i in nonSL_res.index:\n",
    "  test=nonSL_res.loc[i]\n",
    "  break"
   ]
  },
  {
   "cell_type": "code",
   "execution_count": null,
   "metadata": {
    "colab": {
     "base_uri": "https://localhost:8080/",
     "height": 35
    },
    "id": "seL6MoWkxxG-",
    "outputId": "228c4d3d-2dad-420b-b6ac-95471570c0c1"
   },
   "outputs": [
    {
     "data": {
      "application/vnd.google.colaboratory.intrinsic+json": {
       "type": "string"
      },
      "text/plain": [
       "'AKT1'"
      ]
     },
     "execution_count": 108,
     "metadata": {},
     "output_type": "execute_result"
    }
   ],
   "source": [
    "test['gene_a.name']"
   ]
  },
  {
   "cell_type": "code",
   "execution_count": null,
   "metadata": {
    "id": "W6g43303xDYI"
   },
   "outputs": [],
   "source": [
    "a=[]\n",
    "for i in nonSL_res.index:\n",
    "  test=nonSL_res.loc[i]\n",
    "  #a=np.array(adata_concat[:,[test['gene_a.name']:test['gene_b.name']]].X.T)\n",
    "  b=np.array(adata_concat[dpt_B_index,[test['gene_a.name'],test['gene_b.name']]].X.T)\n",
    "  a.append(b)\n",
    "c=np.array(a)"
   ]
  },
  {
   "cell_type": "code",
   "execution_count": null,
   "metadata": {
    "id": "knzRtw5ayfI8"
   },
   "outputs": [],
   "source": [
    "np.save('nonSL_x1',c)"
   ]
  },
  {
   "cell_type": "code",
   "execution_count": null,
   "metadata": {
    "id": "pUpJbx5zy5Fx"
   },
   "outputs": [],
   "source": []
  },
  {
   "cell_type": "code",
   "execution_count": null,
   "metadata": {
    "colab": {
     "base_uri": "https://localhost:8080/",
     "height": 206
    },
    "id": "EtiE-2txy5TK",
    "outputId": "3166b90f-4012-447b-d5eb-3648ee892415"
   },
   "outputs": [
    {
     "data": {
      "text/html": [
       "\n",
       "  <div id=\"df-d37c90f6-d968-4f53-9d64-2d59f74a22e0\">\n",
       "    <div class=\"colab-df-container\">\n",
       "      <div>\n",
       "<style scoped>\n",
       "    .dataframe tbody tr th:only-of-type {\n",
       "        vertical-align: middle;\n",
       "    }\n",
       "\n",
       "    .dataframe tbody tr th {\n",
       "        vertical-align: top;\n",
       "    }\n",
       "\n",
       "    .dataframe thead th {\n",
       "        text-align: right;\n",
       "    }\n",
       "</style>\n",
       "<table border=\"1\" class=\"dataframe\">\n",
       "  <thead>\n",
       "    <tr style=\"text-align: right;\">\n",
       "      <th></th>\n",
       "      <th>gene_a.name</th>\n",
       "      <th>gene_a.identifier</th>\n",
       "      <th>gene_b.name</th>\n",
       "      <th>gene_b.identifier</th>\n",
       "      <th>SL.cell_line</th>\n",
       "      <th>SL.pubmed_id</th>\n",
       "      <th>SL.source</th>\n",
       "      <th>SL.statistic_score</th>\n",
       "    </tr>\n",
       "  </thead>\n",
       "  <tbody>\n",
       "    <tr>\n",
       "      <th>0</th>\n",
       "      <td>CYP1A2</td>\n",
       "      <td>1544</td>\n",
       "      <td>FKBP11</td>\n",
       "      <td>51303</td>\n",
       "      <td>K562;K562</td>\n",
       "      <td>20609354</td>\n",
       "      <td>GenomeRNAi</td>\n",
       "      <td>0.506</td>\n",
       "    </tr>\n",
       "    <tr>\n",
       "      <th>1</th>\n",
       "      <td>ABCB1</td>\n",
       "      <td>5243</td>\n",
       "      <td>FKBP11</td>\n",
       "      <td>51303</td>\n",
       "      <td>K562;K562</td>\n",
       "      <td>20609354</td>\n",
       "      <td>GenomeRNAi</td>\n",
       "      <td>0.506</td>\n",
       "    </tr>\n",
       "    <tr>\n",
       "      <th>2</th>\n",
       "      <td>CYP2C19</td>\n",
       "      <td>1557</td>\n",
       "      <td>FKBP11</td>\n",
       "      <td>51303</td>\n",
       "      <td>K562;K562</td>\n",
       "      <td>20609354</td>\n",
       "      <td>GenomeRNAi</td>\n",
       "      <td>0.506</td>\n",
       "    </tr>\n",
       "    <tr>\n",
       "      <th>3</th>\n",
       "      <td>CYP3A4</td>\n",
       "      <td>1576</td>\n",
       "      <td>FKBP11</td>\n",
       "      <td>51303</td>\n",
       "      <td>K562;K562</td>\n",
       "      <td>20609354</td>\n",
       "      <td>GenomeRNAi</td>\n",
       "      <td>0.506</td>\n",
       "    </tr>\n",
       "    <tr>\n",
       "      <th>4</th>\n",
       "      <td>ALB</td>\n",
       "      <td>213</td>\n",
       "      <td>FKBP11</td>\n",
       "      <td>51303</td>\n",
       "      <td>K562;K562</td>\n",
       "      <td>20609354</td>\n",
       "      <td>GenomeRNAi</td>\n",
       "      <td>0.506</td>\n",
       "    </tr>\n",
       "  </tbody>\n",
       "</table>\n",
       "</div>\n",
       "      <button class=\"colab-df-convert\" onclick=\"convertToInteractive('df-d37c90f6-d968-4f53-9d64-2d59f74a22e0')\"\n",
       "              title=\"Convert this dataframe to an interactive table.\"\n",
       "              style=\"display:none;\">\n",
       "        \n",
       "  <svg xmlns=\"http://www.w3.org/2000/svg\" height=\"24px\"viewBox=\"0 0 24 24\"\n",
       "       width=\"24px\">\n",
       "    <path d=\"M0 0h24v24H0V0z\" fill=\"none\"/>\n",
       "    <path d=\"M18.56 5.44l.94 2.06.94-2.06 2.06-.94-2.06-.94-.94-2.06-.94 2.06-2.06.94zm-11 1L8.5 8.5l.94-2.06 2.06-.94-2.06-.94L8.5 2.5l-.94 2.06-2.06.94zm10 10l.94 2.06.94-2.06 2.06-.94-2.06-.94-.94-2.06-.94 2.06-2.06.94z\"/><path d=\"M17.41 7.96l-1.37-1.37c-.4-.4-.92-.59-1.43-.59-.52 0-1.04.2-1.43.59L10.3 9.45l-7.72 7.72c-.78.78-.78 2.05 0 2.83L4 21.41c.39.39.9.59 1.41.59.51 0 1.02-.2 1.41-.59l7.78-7.78 2.81-2.81c.8-.78.8-2.07 0-2.86zM5.41 20L4 18.59l7.72-7.72 1.47 1.35L5.41 20z\"/>\n",
       "  </svg>\n",
       "      </button>\n",
       "      \n",
       "  <style>\n",
       "    .colab-df-container {\n",
       "      display:flex;\n",
       "      flex-wrap:wrap;\n",
       "      gap: 12px;\n",
       "    }\n",
       "\n",
       "    .colab-df-convert {\n",
       "      background-color: #E8F0FE;\n",
       "      border: none;\n",
       "      border-radius: 50%;\n",
       "      cursor: pointer;\n",
       "      display: none;\n",
       "      fill: #1967D2;\n",
       "      height: 32px;\n",
       "      padding: 0 0 0 0;\n",
       "      width: 32px;\n",
       "    }\n",
       "\n",
       "    .colab-df-convert:hover {\n",
       "      background-color: #E2EBFA;\n",
       "      box-shadow: 0px 1px 2px rgba(60, 64, 67, 0.3), 0px 1px 3px 1px rgba(60, 64, 67, 0.15);\n",
       "      fill: #174EA6;\n",
       "    }\n",
       "\n",
       "    [theme=dark] .colab-df-convert {\n",
       "      background-color: #3B4455;\n",
       "      fill: #D2E3FC;\n",
       "    }\n",
       "\n",
       "    [theme=dark] .colab-df-convert:hover {\n",
       "      background-color: #434B5C;\n",
       "      box-shadow: 0px 1px 3px 1px rgba(0, 0, 0, 0.15);\n",
       "      filter: drop-shadow(0px 1px 2px rgba(0, 0, 0, 0.3));\n",
       "      fill: #FFFFFF;\n",
       "    }\n",
       "  </style>\n",
       "\n",
       "      <script>\n",
       "        const buttonEl =\n",
       "          document.querySelector('#df-d37c90f6-d968-4f53-9d64-2d59f74a22e0 button.colab-df-convert');\n",
       "        buttonEl.style.display =\n",
       "          google.colab.kernel.accessAllowed ? 'block' : 'none';\n",
       "\n",
       "        async function convertToInteractive(key) {\n",
       "          const element = document.querySelector('#df-d37c90f6-d968-4f53-9d64-2d59f74a22e0');\n",
       "          const dataTable =\n",
       "            await google.colab.kernel.invokeFunction('convertToInteractive',\n",
       "                                                     [key], {});\n",
       "          if (!dataTable) return;\n",
       "\n",
       "          const docLinkHtml = 'Like what you see? Visit the ' +\n",
       "            '<a target=\"_blank\" href=https://colab.research.google.com/notebooks/data_table.ipynb>data table notebook</a>'\n",
       "            + ' to learn more about interactive tables.';\n",
       "          element.innerHTML = '';\n",
       "          dataTable['output_type'] = 'display_data';\n",
       "          await google.colab.output.renderOutput(dataTable, element);\n",
       "          const docLink = document.createElement('div');\n",
       "          docLink.innerHTML = docLinkHtml;\n",
       "          element.appendChild(docLink);\n",
       "        }\n",
       "      </script>\n",
       "    </div>\n",
       "  </div>\n",
       "  "
      ],
      "text/plain": [
       "  gene_a.name  gene_a.identifier gene_b.name  gene_b.identifier SL.cell_line  \\\n",
       "0      CYP1A2               1544      FKBP11              51303    K562;K562   \n",
       "1       ABCB1               5243      FKBP11              51303    K562;K562   \n",
       "2     CYP2C19               1557      FKBP11              51303    K562;K562   \n",
       "3      CYP3A4               1576      FKBP11              51303    K562;K562   \n",
       "4         ALB                213      FKBP11              51303    K562;K562   \n",
       "\n",
       "  SL.pubmed_id   SL.source  SL.statistic_score  \n",
       "0     20609354  GenomeRNAi               0.506  \n",
       "1     20609354  GenomeRNAi               0.506  \n",
       "2     20609354  GenomeRNAi               0.506  \n",
       "3     20609354  GenomeRNAi               0.506  \n",
       "4     20609354  GenomeRNAi               0.506  "
      ]
     },
     "execution_count": 120,
     "metadata": {},
     "output_type": "execute_result"
    }
   ],
   "source": [
    "SL=pd.read_csv('/content/Human_SL.csv')\n",
    "SL.head()"
   ]
  },
  {
   "cell_type": "code",
   "execution_count": null,
   "metadata": {
    "colab": {
     "base_uri": "https://localhost:8080/"
    },
    "id": "mad53jMuy5TL",
    "outputId": "f931c3f7-00f3-47e3-aaed-b401e6c5cc06"
   },
   "outputs": [
    {
     "data": {
      "text/plain": [
       "['PTK6', 'COPA', 'CORO1B', 'NOL9', 'C11orf24']"
      ]
     },
     "execution_count": 121,
     "metadata": {},
     "output_type": "execute_result"
    }
   ],
   "source": [
    "all_SL_gene=list(set(SL['gene_a.name']) & set(SL['gene_b.name']) & set(adata_concat.var_names))\n",
    "all_SL_gene[:5]"
   ]
  },
  {
   "cell_type": "code",
   "execution_count": null,
   "metadata": {
    "colab": {
     "base_uri": "https://localhost:8080/",
     "height": 467
    },
    "id": "I3lxPTz4y5TL",
    "outputId": "16d2012b-2dd4-43a3-c1c7-d261b02bcd34"
   },
   "outputs": [
    {
     "data": {
      "text/html": [
       "\n",
       "  <div id=\"df-a150548a-2214-424d-9739-d6649e6327a3\">\n",
       "    <div class=\"colab-df-container\">\n",
       "      <div>\n",
       "<style scoped>\n",
       "    .dataframe tbody tr th:only-of-type {\n",
       "        vertical-align: middle;\n",
       "    }\n",
       "\n",
       "    .dataframe tbody tr th {\n",
       "        vertical-align: top;\n",
       "    }\n",
       "\n",
       "    .dataframe thead th {\n",
       "        text-align: right;\n",
       "    }\n",
       "</style>\n",
       "<table border=\"1\" class=\"dataframe\">\n",
       "  <thead>\n",
       "    <tr style=\"text-align: right;\">\n",
       "      <th></th>\n",
       "      <th>gene_a.name</th>\n",
       "      <th>gene_a.identifier</th>\n",
       "      <th>gene_b.name</th>\n",
       "      <th>gene_b.identifier</th>\n",
       "      <th>SL.cell_line</th>\n",
       "      <th>SL.pubmed_id</th>\n",
       "      <th>SL.source</th>\n",
       "      <th>SL.statistic_score</th>\n",
       "    </tr>\n",
       "  </thead>\n",
       "  <tbody>\n",
       "    <tr>\n",
       "      <th>0</th>\n",
       "      <td>CYP1A2</td>\n",
       "      <td>1544</td>\n",
       "      <td>FKBP11</td>\n",
       "      <td>51303</td>\n",
       "      <td>K562;K562</td>\n",
       "      <td>20609354</td>\n",
       "      <td>GenomeRNAi</td>\n",
       "      <td>0.506</td>\n",
       "    </tr>\n",
       "    <tr>\n",
       "      <th>1</th>\n",
       "      <td>CYP2C19</td>\n",
       "      <td>1557</td>\n",
       "      <td>FKBP11</td>\n",
       "      <td>51303</td>\n",
       "      <td>K562;K562</td>\n",
       "      <td>20609354</td>\n",
       "      <td>GenomeRNAi</td>\n",
       "      <td>0.506</td>\n",
       "    </tr>\n",
       "    <tr>\n",
       "      <th>2</th>\n",
       "      <td>CYP3A4</td>\n",
       "      <td>1576</td>\n",
       "      <td>FKBP11</td>\n",
       "      <td>51303</td>\n",
       "      <td>K562;K562</td>\n",
       "      <td>20609354</td>\n",
       "      <td>GenomeRNAi</td>\n",
       "      <td>0.506</td>\n",
       "    </tr>\n",
       "    <tr>\n",
       "      <th>3</th>\n",
       "      <td>ALB</td>\n",
       "      <td>213</td>\n",
       "      <td>FKBP11</td>\n",
       "      <td>51303</td>\n",
       "      <td>K562;K562</td>\n",
       "      <td>20609354</td>\n",
       "      <td>GenomeRNAi</td>\n",
       "      <td>0.506</td>\n",
       "    </tr>\n",
       "    <tr>\n",
       "      <th>4</th>\n",
       "      <td>BCR</td>\n",
       "      <td>613</td>\n",
       "      <td>FKBP11</td>\n",
       "      <td>51303</td>\n",
       "      <td>K562;K562</td>\n",
       "      <td>20609354</td>\n",
       "      <td>GenomeRNAi</td>\n",
       "      <td>0.506</td>\n",
       "    </tr>\n",
       "    <tr>\n",
       "      <th>...</th>\n",
       "      <td>...</td>\n",
       "      <td>...</td>\n",
       "      <td>...</td>\n",
       "      <td>...</td>\n",
       "      <td>...</td>\n",
       "      <td>...</td>\n",
       "      <td>...</td>\n",
       "      <td>...</td>\n",
       "    </tr>\n",
       "    <tr>\n",
       "      <th>22207</th>\n",
       "      <td>PDGFRB</td>\n",
       "      <td>5159</td>\n",
       "      <td>PRKCQ</td>\n",
       "      <td>5588</td>\n",
       "      <td>K562;K562</td>\n",
       "      <td>20609354</td>\n",
       "      <td>GenomeRNAi</td>\n",
       "      <td>0.521</td>\n",
       "    </tr>\n",
       "    <tr>\n",
       "      <th>22208</th>\n",
       "      <td>BCR</td>\n",
       "      <td>613</td>\n",
       "      <td>PRKCQ</td>\n",
       "      <td>5588</td>\n",
       "      <td>K562;K562</td>\n",
       "      <td>20609354</td>\n",
       "      <td>GenomeRNAi</td>\n",
       "      <td>0.521</td>\n",
       "    </tr>\n",
       "    <tr>\n",
       "      <th>22209</th>\n",
       "      <td>ALB</td>\n",
       "      <td>213</td>\n",
       "      <td>PRKCQ</td>\n",
       "      <td>5588</td>\n",
       "      <td>K562;K562</td>\n",
       "      <td>20609354</td>\n",
       "      <td>GenomeRNAi</td>\n",
       "      <td>0.521</td>\n",
       "    </tr>\n",
       "    <tr>\n",
       "      <th>22210</th>\n",
       "      <td>KRAS</td>\n",
       "      <td>3845</td>\n",
       "      <td>SLC10A7</td>\n",
       "      <td>84068</td>\n",
       "      <td>COAD</td>\n",
       "      <td>24104479</td>\n",
       "      <td>Text Mining</td>\n",
       "      <td>0.600</td>\n",
       "    </tr>\n",
       "    <tr>\n",
       "      <th>22211</th>\n",
       "      <td>KRAS</td>\n",
       "      <td>3845</td>\n",
       "      <td>SVIL</td>\n",
       "      <td>6840</td>\n",
       "      <td>COAD</td>\n",
       "      <td>24104479</td>\n",
       "      <td>Text Mining</td>\n",
       "      <td>0.600</td>\n",
       "    </tr>\n",
       "  </tbody>\n",
       "</table>\n",
       "<p>22212 rows × 8 columns</p>\n",
       "</div>\n",
       "      <button class=\"colab-df-convert\" onclick=\"convertToInteractive('df-a150548a-2214-424d-9739-d6649e6327a3')\"\n",
       "              title=\"Convert this dataframe to an interactive table.\"\n",
       "              style=\"display:none;\">\n",
       "        \n",
       "  <svg xmlns=\"http://www.w3.org/2000/svg\" height=\"24px\"viewBox=\"0 0 24 24\"\n",
       "       width=\"24px\">\n",
       "    <path d=\"M0 0h24v24H0V0z\" fill=\"none\"/>\n",
       "    <path d=\"M18.56 5.44l.94 2.06.94-2.06 2.06-.94-2.06-.94-.94-2.06-.94 2.06-2.06.94zm-11 1L8.5 8.5l.94-2.06 2.06-.94-2.06-.94L8.5 2.5l-.94 2.06-2.06.94zm10 10l.94 2.06.94-2.06 2.06-.94-2.06-.94-.94-2.06-.94 2.06-2.06.94z\"/><path d=\"M17.41 7.96l-1.37-1.37c-.4-.4-.92-.59-1.43-.59-.52 0-1.04.2-1.43.59L10.3 9.45l-7.72 7.72c-.78.78-.78 2.05 0 2.83L4 21.41c.39.39.9.59 1.41.59.51 0 1.02-.2 1.41-.59l7.78-7.78 2.81-2.81c.8-.78.8-2.07 0-2.86zM5.41 20L4 18.59l7.72-7.72 1.47 1.35L5.41 20z\"/>\n",
       "  </svg>\n",
       "      </button>\n",
       "      \n",
       "  <style>\n",
       "    .colab-df-container {\n",
       "      display:flex;\n",
       "      flex-wrap:wrap;\n",
       "      gap: 12px;\n",
       "    }\n",
       "\n",
       "    .colab-df-convert {\n",
       "      background-color: #E8F0FE;\n",
       "      border: none;\n",
       "      border-radius: 50%;\n",
       "      cursor: pointer;\n",
       "      display: none;\n",
       "      fill: #1967D2;\n",
       "      height: 32px;\n",
       "      padding: 0 0 0 0;\n",
       "      width: 32px;\n",
       "    }\n",
       "\n",
       "    .colab-df-convert:hover {\n",
       "      background-color: #E2EBFA;\n",
       "      box-shadow: 0px 1px 2px rgba(60, 64, 67, 0.3), 0px 1px 3px 1px rgba(60, 64, 67, 0.15);\n",
       "      fill: #174EA6;\n",
       "    }\n",
       "\n",
       "    [theme=dark] .colab-df-convert {\n",
       "      background-color: #3B4455;\n",
       "      fill: #D2E3FC;\n",
       "    }\n",
       "\n",
       "    [theme=dark] .colab-df-convert:hover {\n",
       "      background-color: #434B5C;\n",
       "      box-shadow: 0px 1px 3px 1px rgba(0, 0, 0, 0.15);\n",
       "      filter: drop-shadow(0px 1px 2px rgba(0, 0, 0, 0.3));\n",
       "      fill: #FFFFFF;\n",
       "    }\n",
       "  </style>\n",
       "\n",
       "      <script>\n",
       "        const buttonEl =\n",
       "          document.querySelector('#df-a150548a-2214-424d-9739-d6649e6327a3 button.colab-df-convert');\n",
       "        buttonEl.style.display =\n",
       "          google.colab.kernel.accessAllowed ? 'block' : 'none';\n",
       "\n",
       "        async function convertToInteractive(key) {\n",
       "          const element = document.querySelector('#df-a150548a-2214-424d-9739-d6649e6327a3');\n",
       "          const dataTable =\n",
       "            await google.colab.kernel.invokeFunction('convertToInteractive',\n",
       "                                                     [key], {});\n",
       "          if (!dataTable) return;\n",
       "\n",
       "          const docLinkHtml = 'Like what you see? Visit the ' +\n",
       "            '<a target=\"_blank\" href=https://colab.research.google.com/notebooks/data_table.ipynb>data table notebook</a>'\n",
       "            + ' to learn more about interactive tables.';\n",
       "          element.innerHTML = '';\n",
       "          dataTable['output_type'] = 'display_data';\n",
       "          await google.colab.output.renderOutput(dataTable, element);\n",
       "          const docLink = document.createElement('div');\n",
       "          docLink.innerHTML = docLinkHtml;\n",
       "          element.appendChild(docLink);\n",
       "        }\n",
       "      </script>\n",
       "    </div>\n",
       "  </div>\n",
       "  "
      ],
      "text/plain": [
       "      gene_a.name  gene_a.identifier gene_b.name  gene_b.identifier  \\\n",
       "0          CYP1A2               1544      FKBP11              51303   \n",
       "1         CYP2C19               1557      FKBP11              51303   \n",
       "2          CYP3A4               1576      FKBP11              51303   \n",
       "3             ALB                213      FKBP11              51303   \n",
       "4             BCR                613      FKBP11              51303   \n",
       "...           ...                ...         ...                ...   \n",
       "22207      PDGFRB               5159       PRKCQ               5588   \n",
       "22208         BCR                613       PRKCQ               5588   \n",
       "22209         ALB                213       PRKCQ               5588   \n",
       "22210        KRAS               3845     SLC10A7              84068   \n",
       "22211        KRAS               3845        SVIL               6840   \n",
       "\n",
       "      SL.cell_line SL.pubmed_id    SL.source  SL.statistic_score  \n",
       "0        K562;K562     20609354   GenomeRNAi               0.506  \n",
       "1        K562;K562     20609354   GenomeRNAi               0.506  \n",
       "2        K562;K562     20609354   GenomeRNAi               0.506  \n",
       "3        K562;K562     20609354   GenomeRNAi               0.506  \n",
       "4        K562;K562     20609354   GenomeRNAi               0.506  \n",
       "...            ...          ...          ...                 ...  \n",
       "22207    K562;K562     20609354   GenomeRNAi               0.521  \n",
       "22208    K562;K562     20609354   GenomeRNAi               0.521  \n",
       "22209    K562;K562     20609354   GenomeRNAi               0.521  \n",
       "22210         COAD     24104479  Text Mining               0.600  \n",
       "22211         COAD     24104479  Text Mining               0.600  \n",
       "\n",
       "[22212 rows x 8 columns]"
      ]
     },
     "execution_count": 122,
     "metadata": {},
     "output_type": "execute_result"
    }
   ],
   "source": [
    "SL_res=SL[SL['gene_a.name'].isin(all_SL_gene) & SL['gene_b.name'].isin(all_SL_gene)]\n",
    "SL_res.index=range(len(SL_res))\n",
    "SL_res"
   ]
  },
  {
   "cell_type": "code",
   "execution_count": null,
   "metadata": {
    "colab": {
     "base_uri": "https://localhost:8080/"
    },
    "id": "ayVDt93qCU0a",
    "outputId": "16fa6c5e-36d9-4c29-9557-522e7cf31d3c"
   },
   "outputs": [
    {
     "data": {
      "text/plain": [
       "ArrayView([[0.       , 2.5769057],\n",
       "           [0.       , 2.3155527],\n",
       "           [0.       , 2.49679  ],\n",
       "           ...,\n",
       "           [0.       , 0.       ],\n",
       "           [0.       , 1.7746993],\n",
       "           [0.       , 0.       ]], dtype=float32)"
      ]
     },
     "execution_count": 138,
     "metadata": {},
     "output_type": "execute_result"
    }
   ],
   "source": [
    "adata_concat[dpt_B_index,['CYP1A2','FKBP11']].X"
   ]
  },
  {
   "cell_type": "code",
   "execution_count": null,
   "metadata": {
    "id": "T0ESsz0hy5TL"
   },
   "outputs": [],
   "source": [
    "a=[]\n",
    "for i in SL_res.iloc[:2000].index:\n",
    "  test=SL_res.loc[i]\n",
    "  #a=np.array(adata_concat[:,[test['gene_a.name']:test['gene_b.name']]].X.T)\n",
    "  b=np.array(adata_concat[dpt_B_index,[test['gene_a.name'],test['gene_b.name']]].X.T)\n",
    "  a.append(b)\n",
    "c=np.array(a)"
   ]
  },
  {
   "cell_type": "code",
   "execution_count": null,
   "metadata": {
    "id": "fUL6jT7ey5TL"
   },
   "outputs": [],
   "source": [
    "np.save('SL_x1',c)"
   ]
  },
  {
   "cell_type": "code",
   "execution_count": null,
   "metadata": {
    "id": "vb24qIvz7PFF"
   },
   "outputs": [],
   "source": [
    "!cp /content/SL_x1.npy /content/drive/MyDrive/SL_GAN\n",
    "!cp /content/nonSL_x1.npy /content/drive/MyDrive/SL_GAN"
   ]
  },
  {
   "cell_type": "code",
   "execution_count": null,
   "metadata": {
    "id": "S9rtcPI87ZrR"
   },
   "outputs": [],
   "source": [
    "!cp /content/CRLM_PT_MT_Bcell_patient10.h5ad /content/drive/MyDrive/SL_GAN\n",
    "!cp /content/dpt_B_index.txt /content/drive/MyDrive/SL_GAN"
   ]
  },
  {
   "cell_type": "code",
   "execution_count": null,
   "metadata": {
    "id": "YXgm5C0CCYlC"
   },
   "outputs": [],
   "source": [
    "!cp /content/CRLM_PT_MT_Bcell.h5ad /content/drive/MyDrive/CRLM"
   ]
  },
  {
   "cell_type": "code",
   "execution_count": null,
   "metadata": {
    "id": "V-xwKrFID6jN"
   },
   "outputs": [],
   "source": [
    "import anndata\n",
    "adata_concat=anndata.read_h5ad('/content/drive/MyDrive/CRLM/CRLM_PT_MT_Bcell.h5ad')"
   ]
  },
  {
   "cell_type": "code",
   "execution_count": null,
   "metadata": {
    "colab": {
     "base_uri": "https://localhost:8080/",
     "height": 91
    },
    "id": "SDGDKQafCfgm",
    "outputId": "631b7f7f-a333-421a-8f7d-7cb7e193653e"
   },
   "outputs": [
    {
     "name": "stderr",
     "output_type": "stream",
     "text": [
      "/usr/local/lib/python3.7/dist-packages/numba/np/ufunc/parallel.py:363: NumbaWarning: The TBB threading layer requires TBB version 2019.5 or later i.e., TBB_INTERFACE_VERSION >= 11005. Found TBB_INTERFACE_VERSION = 9107. The TBB threading layer is disabled.\n",
      "  warnings.warn(problem)\n"
     ]
    },
    {
     "data": {
      "application/vnd.google.colaboratory.intrinsic+json": {
       "type": "string"
      },
      "text/plain": [
       "'9'"
      ]
     },
     "execution_count": 4,
     "metadata": {},
     "output_type": "execute_result"
    }
   ],
   "source": [
    "import scanpy as sc\n",
    "adata=adata_concat\n",
    "sc.pp.highly_variable_genes(adata, min_mean=0.0125, max_mean=3, min_disp=0.5)\n",
    "adata.raw = adata\n",
    "adata = adata[:, adata.var.highly_variable]\n",
    "sc.tl.pca(adata, svd_solver='arpack')\n",
    "sc.pp.neighbors(adata, n_neighbors=20, n_pcs=40)\n",
    "sc.tl.leiden(adata)\n",
    "max(set(adata.obs.leiden))"
   ]
  },
  {
   "cell_type": "code",
   "execution_count": null,
   "metadata": {
    "colab": {
     "base_uri": "https://localhost:8080/"
    },
    "id": "FYMDsH-ZDX_d",
    "outputId": "70c63581-8edc-4a4b-cdbb-42d06d612f93"
   },
   "outputs": [
    {
     "data": {
      "text/plain": [
       "21"
      ]
     },
     "execution_count": 5,
     "metadata": {},
     "output_type": "execute_result"
    }
   ],
   "source": [
    "len(list(set(adata.obs.leiden)))"
   ]
  },
  {
   "cell_type": "code",
   "execution_count": null,
   "metadata": {
    "colab": {
     "base_uri": "https://localhost:8080/",
     "height": 538
    },
    "id": "CNN4OVfmEnQY",
    "outputId": "e69564a4-4adf-4ec2-bb98-d24f9c4fc215"
   },
   "outputs": [
    {
     "name": "stdout",
     "output_type": "stream",
     "text": [
      "WARNING: Length of palette colors is smaller than the number of categories (palette length: 20, categories length: 21. Some categories will have the same color.\n"
     ]
    },
    {
     "ename": "ImportError",
     "evalue": "ignored",
     "output_type": "error",
     "traceback": [
      "\u001b[0;31m---------------------------------------------------------------------------\u001b[0m",
      "\u001b[0;31mImportError\u001b[0m                               Traceback (most recent call last)",
      "\u001b[0;32m/usr/local/lib/python3.7/dist-packages/IPython/core/formatters.py\u001b[0m in \u001b[0;36m__call__\u001b[0;34m(self, obj)\u001b[0m\n\u001b[1;32m    332\u001b[0m                 \u001b[0;32mpass\u001b[0m\u001b[0;34m\u001b[0m\u001b[0;34m\u001b[0m\u001b[0m\n\u001b[1;32m    333\u001b[0m             \u001b[0;32melse\u001b[0m\u001b[0;34m:\u001b[0m\u001b[0;34m\u001b[0m\u001b[0;34m\u001b[0m\u001b[0m\n\u001b[0;32m--> 334\u001b[0;31m                 \u001b[0;32mreturn\u001b[0m \u001b[0mprinter\u001b[0m\u001b[0;34m(\u001b[0m\u001b[0mobj\u001b[0m\u001b[0;34m)\u001b[0m\u001b[0;34m\u001b[0m\u001b[0;34m\u001b[0m\u001b[0m\n\u001b[0m\u001b[1;32m    335\u001b[0m             \u001b[0;31m# Finally look for special method names\u001b[0m\u001b[0;34m\u001b[0m\u001b[0;34m\u001b[0m\u001b[0;34m\u001b[0m\u001b[0m\n\u001b[1;32m    336\u001b[0m             \u001b[0mmethod\u001b[0m \u001b[0;34m=\u001b[0m \u001b[0mget_real_method\u001b[0m\u001b[0;34m(\u001b[0m\u001b[0mobj\u001b[0m\u001b[0;34m,\u001b[0m \u001b[0mself\u001b[0m\u001b[0;34m.\u001b[0m\u001b[0mprint_method\u001b[0m\u001b[0;34m)\u001b[0m\u001b[0;34m\u001b[0m\u001b[0;34m\u001b[0m\u001b[0m\n",
      "\u001b[0;32m/usr/local/lib/python3.7/dist-packages/IPython/core/pylabtools.py\u001b[0m in \u001b[0;36m<lambda>\u001b[0;34m(fig)\u001b[0m\n\u001b[1;32m    241\u001b[0m         \u001b[0mpng_formatter\u001b[0m\u001b[0;34m.\u001b[0m\u001b[0mfor_type\u001b[0m\u001b[0;34m(\u001b[0m\u001b[0mFigure\u001b[0m\u001b[0;34m,\u001b[0m \u001b[0;32mlambda\u001b[0m \u001b[0mfig\u001b[0m\u001b[0;34m:\u001b[0m \u001b[0mprint_figure\u001b[0m\u001b[0;34m(\u001b[0m\u001b[0mfig\u001b[0m\u001b[0;34m,\u001b[0m \u001b[0;34m'png'\u001b[0m\u001b[0;34m,\u001b[0m \u001b[0;34m**\u001b[0m\u001b[0mkwargs\u001b[0m\u001b[0;34m)\u001b[0m\u001b[0;34m)\u001b[0m\u001b[0;34m\u001b[0m\u001b[0;34m\u001b[0m\u001b[0m\n\u001b[1;32m    242\u001b[0m     \u001b[0;32mif\u001b[0m \u001b[0;34m'retina'\u001b[0m \u001b[0;32min\u001b[0m \u001b[0mformats\u001b[0m \u001b[0;32mor\u001b[0m \u001b[0;34m'png2x'\u001b[0m \u001b[0;32min\u001b[0m \u001b[0mformats\u001b[0m\u001b[0;34m:\u001b[0m\u001b[0;34m\u001b[0m\u001b[0;34m\u001b[0m\u001b[0m\n\u001b[0;32m--> 243\u001b[0;31m         \u001b[0mpng_formatter\u001b[0m\u001b[0;34m.\u001b[0m\u001b[0mfor_type\u001b[0m\u001b[0;34m(\u001b[0m\u001b[0mFigure\u001b[0m\u001b[0;34m,\u001b[0m \u001b[0;32mlambda\u001b[0m \u001b[0mfig\u001b[0m\u001b[0;34m:\u001b[0m \u001b[0mretina_figure\u001b[0m\u001b[0;34m(\u001b[0m\u001b[0mfig\u001b[0m\u001b[0;34m,\u001b[0m \u001b[0;34m**\u001b[0m\u001b[0mkwargs\u001b[0m\u001b[0;34m)\u001b[0m\u001b[0;34m)\u001b[0m\u001b[0;34m\u001b[0m\u001b[0;34m\u001b[0m\u001b[0m\n\u001b[0m\u001b[1;32m    244\u001b[0m     \u001b[0;32mif\u001b[0m \u001b[0;34m'jpg'\u001b[0m \u001b[0;32min\u001b[0m \u001b[0mformats\u001b[0m \u001b[0;32mor\u001b[0m \u001b[0;34m'jpeg'\u001b[0m \u001b[0;32min\u001b[0m \u001b[0mformats\u001b[0m\u001b[0;34m:\u001b[0m\u001b[0;34m\u001b[0m\u001b[0;34m\u001b[0m\u001b[0m\n\u001b[1;32m    245\u001b[0m         \u001b[0mjpg_formatter\u001b[0m\u001b[0;34m.\u001b[0m\u001b[0mfor_type\u001b[0m\u001b[0;34m(\u001b[0m\u001b[0mFigure\u001b[0m\u001b[0;34m,\u001b[0m \u001b[0;32mlambda\u001b[0m \u001b[0mfig\u001b[0m\u001b[0;34m:\u001b[0m \u001b[0mprint_figure\u001b[0m\u001b[0;34m(\u001b[0m\u001b[0mfig\u001b[0m\u001b[0;34m,\u001b[0m \u001b[0;34m'jpg'\u001b[0m\u001b[0;34m,\u001b[0m \u001b[0;34m**\u001b[0m\u001b[0mkwargs\u001b[0m\u001b[0;34m)\u001b[0m\u001b[0;34m)\u001b[0m\u001b[0;34m\u001b[0m\u001b[0;34m\u001b[0m\u001b[0m\n",
      "\u001b[0;32m/usr/local/lib/python3.7/dist-packages/IPython/core/pylabtools.py\u001b[0m in \u001b[0;36mretina_figure\u001b[0;34m(fig, **kwargs)\u001b[0m\n\u001b[1;32m    131\u001b[0m \u001b[0;32mdef\u001b[0m \u001b[0mretina_figure\u001b[0m\u001b[0;34m(\u001b[0m\u001b[0mfig\u001b[0m\u001b[0;34m,\u001b[0m \u001b[0;34m**\u001b[0m\u001b[0mkwargs\u001b[0m\u001b[0;34m)\u001b[0m\u001b[0;34m:\u001b[0m\u001b[0;34m\u001b[0m\u001b[0;34m\u001b[0m\u001b[0m\n\u001b[1;32m    132\u001b[0m     \u001b[0;34m\"\"\"format a figure as a pixel-doubled (retina) PNG\"\"\"\u001b[0m\u001b[0;34m\u001b[0m\u001b[0;34m\u001b[0m\u001b[0m\n\u001b[0;32m--> 133\u001b[0;31m     \u001b[0mpngdata\u001b[0m \u001b[0;34m=\u001b[0m \u001b[0mprint_figure\u001b[0m\u001b[0;34m(\u001b[0m\u001b[0mfig\u001b[0m\u001b[0;34m,\u001b[0m \u001b[0mfmt\u001b[0m\u001b[0;34m=\u001b[0m\u001b[0;34m'retina'\u001b[0m\u001b[0;34m,\u001b[0m \u001b[0;34m**\u001b[0m\u001b[0mkwargs\u001b[0m\u001b[0;34m)\u001b[0m\u001b[0;34m\u001b[0m\u001b[0;34m\u001b[0m\u001b[0m\n\u001b[0m\u001b[1;32m    134\u001b[0m     \u001b[0;31m# Make sure that retina_figure acts just like print_figure and returns\u001b[0m\u001b[0;34m\u001b[0m\u001b[0;34m\u001b[0m\u001b[0;34m\u001b[0m\u001b[0m\n\u001b[1;32m    135\u001b[0m     \u001b[0;31m# None when the figure is empty.\u001b[0m\u001b[0;34m\u001b[0m\u001b[0;34m\u001b[0m\u001b[0;34m\u001b[0m\u001b[0m\n",
      "\u001b[0;32m/usr/local/lib/python3.7/dist-packages/IPython/core/pylabtools.py\u001b[0m in \u001b[0;36mprint_figure\u001b[0;34m(fig, fmt, bbox_inches, **kwargs)\u001b[0m\n\u001b[1;32m    123\u001b[0m \u001b[0;34m\u001b[0m\u001b[0m\n\u001b[1;32m    124\u001b[0m     \u001b[0mbytes_io\u001b[0m \u001b[0;34m=\u001b[0m \u001b[0mBytesIO\u001b[0m\u001b[0;34m(\u001b[0m\u001b[0;34m)\u001b[0m\u001b[0;34m\u001b[0m\u001b[0;34m\u001b[0m\u001b[0m\n\u001b[0;32m--> 125\u001b[0;31m     \u001b[0mfig\u001b[0m\u001b[0;34m.\u001b[0m\u001b[0mcanvas\u001b[0m\u001b[0;34m.\u001b[0m\u001b[0mprint_figure\u001b[0m\u001b[0;34m(\u001b[0m\u001b[0mbytes_io\u001b[0m\u001b[0;34m,\u001b[0m \u001b[0;34m**\u001b[0m\u001b[0mkw\u001b[0m\u001b[0;34m)\u001b[0m\u001b[0;34m\u001b[0m\u001b[0;34m\u001b[0m\u001b[0m\n\u001b[0m\u001b[1;32m    126\u001b[0m     \u001b[0mdata\u001b[0m \u001b[0;34m=\u001b[0m \u001b[0mbytes_io\u001b[0m\u001b[0;34m.\u001b[0m\u001b[0mgetvalue\u001b[0m\u001b[0;34m(\u001b[0m\u001b[0;34m)\u001b[0m\u001b[0;34m\u001b[0m\u001b[0;34m\u001b[0m\u001b[0m\n\u001b[1;32m    127\u001b[0m     \u001b[0;32mif\u001b[0m \u001b[0mfmt\u001b[0m \u001b[0;34m==\u001b[0m \u001b[0;34m'svg'\u001b[0m\u001b[0;34m:\u001b[0m\u001b[0;34m\u001b[0m\u001b[0;34m\u001b[0m\u001b[0m\n",
      "\u001b[0;32m/usr/local/lib/python3.7/dist-packages/matplotlib/backend_bases.py\u001b[0m in \u001b[0;36mprint_figure\u001b[0;34m(self, filename, dpi, facecolor, edgecolor, orientation, format, bbox_inches, **kwargs)\u001b[0m\n\u001b[1;32m   2092\u001b[0m         \u001b[0mratio\u001b[0m \u001b[0;34m:\u001b[0m \u001b[0mfloat\u001b[0m\u001b[0;34m\u001b[0m\u001b[0;34m\u001b[0m\u001b[0m\n\u001b[1;32m   2093\u001b[0m             \u001b[0mThe\u001b[0m \u001b[0mratio\u001b[0m \u001b[0mof\u001b[0m \u001b[0mlogical\u001b[0m \u001b[0mto\u001b[0m \u001b[0mphysical\u001b[0m \u001b[0mpixels\u001b[0m \u001b[0mused\u001b[0m \u001b[0;32mfor\u001b[0m \u001b[0mthe\u001b[0m \u001b[0mcanvas\u001b[0m\u001b[0;34m.\u001b[0m\u001b[0;34m\u001b[0m\u001b[0;34m\u001b[0m\u001b[0m\n\u001b[0;32m-> 2094\u001b[0;31m \u001b[0;34m\u001b[0m\u001b[0m\n\u001b[0m\u001b[1;32m   2095\u001b[0m         \u001b[0mReturns\u001b[0m\u001b[0;34m\u001b[0m\u001b[0;34m\u001b[0m\u001b[0m\n\u001b[1;32m   2096\u001b[0m         \u001b[0;34m-\u001b[0m\u001b[0;34m-\u001b[0m\u001b[0;34m-\u001b[0m\u001b[0;34m-\u001b[0m\u001b[0;34m-\u001b[0m\u001b[0;34m-\u001b[0m\u001b[0;34m-\u001b[0m\u001b[0;34m\u001b[0m\u001b[0;34m\u001b[0m\u001b[0m\n",
      "\u001b[0;32m/usr/local/lib/python3.7/dist-packages/matplotlib/backend_bases.py\u001b[0m in \u001b[0;36m_get_renderer\u001b[0;34m(figure, print_method)\u001b[0m\n\u001b[1;32m   1558\u001b[0m     \u001b[0mfigure\u001b[0m\u001b[0;34m.\u001b[0m\u001b[0mdraw_without_rendering\u001b[0m\u001b[0;34m(\u001b[0m\u001b[0;34m)\u001b[0m\u001b[0;34m\u001b[0m\u001b[0;34m\u001b[0m\u001b[0m\n\u001b[1;32m   1559\u001b[0m \u001b[0;34m\u001b[0m\u001b[0m\n\u001b[0;32m-> 1560\u001b[0;31m \u001b[0;34m\u001b[0m\u001b[0m\n\u001b[0m\u001b[1;32m   1561\u001b[0m \u001b[0;32mdef\u001b[0m \u001b[0m_is_non_interactive_terminal_ipython\u001b[0m\u001b[0;34m(\u001b[0m\u001b[0mip\u001b[0m\u001b[0;34m)\u001b[0m\u001b[0;34m:\u001b[0m\u001b[0;34m\u001b[0m\u001b[0;34m\u001b[0m\u001b[0m\n\u001b[1;32m   1562\u001b[0m     \"\"\"\n",
      "\u001b[0;32m/usr/local/lib/python3.7/dist-packages/matplotlib/backends/backend_agg.py\u001b[0m in \u001b[0;36mprint_png\u001b[0;34m(self, filename_or_obj, metadata, pil_kwargs, *args, **kwargs)\u001b[0m\n\u001b[1;32m    503\u001b[0m             \u001b[0mMetadata\u001b[0m \u001b[0;32min\u001b[0m \u001b[0mthe\u001b[0m \u001b[0mPNG\u001b[0m \u001b[0mfile\u001b[0m \u001b[0;32mas\u001b[0m \u001b[0mkey\u001b[0m\u001b[0;34m-\u001b[0m\u001b[0mvalue\u001b[0m \u001b[0mpairs\u001b[0m \u001b[0mof\u001b[0m \u001b[0mbytes\u001b[0m \u001b[0;32mor\u001b[0m \u001b[0mlatin\u001b[0m\u001b[0;34m-\u001b[0m\u001b[0;36m1\u001b[0m\u001b[0;34m\u001b[0m\u001b[0;34m\u001b[0m\u001b[0m\n\u001b[1;32m    504\u001b[0m             \u001b[0mencodable\u001b[0m \u001b[0mstrings\u001b[0m\u001b[0;34m.\u001b[0m\u001b[0;34m\u001b[0m\u001b[0;34m\u001b[0m\u001b[0m\n\u001b[0;32m--> 505\u001b[0;31m             \u001b[0mAccording\u001b[0m \u001b[0mto\u001b[0m \u001b[0mthe\u001b[0m \u001b[0mPNG\u001b[0m \u001b[0mspecification\u001b[0m\u001b[0;34m,\u001b[0m \u001b[0mkeys\u001b[0m \u001b[0mmust\u001b[0m \u001b[0mbe\u001b[0m \u001b[0mshorter\u001b[0m \u001b[0mthan\u001b[0m \u001b[0;36m79\u001b[0m\u001b[0;34m\u001b[0m\u001b[0;34m\u001b[0m\u001b[0m\n\u001b[0m\u001b[1;32m    506\u001b[0m             \u001b[0mchars\u001b[0m\u001b[0;34m.\u001b[0m\u001b[0;34m\u001b[0m\u001b[0;34m\u001b[0m\u001b[0m\n\u001b[1;32m    507\u001b[0m \u001b[0;34m\u001b[0m\u001b[0m\n",
      "\u001b[0;31mImportError\u001b[0m: cannot import name '_png' from 'matplotlib' (/usr/local/lib/python3.7/dist-packages/matplotlib/__init__.py)"
     ]
    },
    {
     "data": {
      "text/plain": [
       "<Figure size 320x320 with 1 Axes>"
      ]
     },
     "metadata": {},
     "output_type": "display_data"
    }
   ],
   "source": [
    "sc.pp.pca(adata)\n",
    "sc.pp.neighbors(adata,metric=\"cosine\")\n",
    "sc.tl.umap(adata,random_state=41822099)\n",
    "adata.obs['leiden_anno'] = adata.obs['leiden']\n",
    "#adata.obs['leiden_anno'].cat.categories = new_type\n",
    "sc.set_figure_params(dpi=80,dpi_save=300,figsize=[4,4],color_map='RdYlGn_r')\n",
    "sc.pl.umap(adata, color=['leiden_anno',],palette=sc.pl.palettes.vega_20_scanpy,wspace=0.5,legend_fontsize=8,)"
   ]
  },
  {
   "cell_type": "code",
   "execution_count": null,
   "metadata": {
    "colab": {
     "base_uri": "https://localhost:8080/"
    },
    "id": "CSR-8xC0FgMA",
    "outputId": "216e2e2c-1f6f-4841-c75e-a24f747cbfc7"
   },
   "outputs": [
    {
     "data": {
      "text/plain": [
       "0     2197\n",
       "1     1163\n",
       "2     1086\n",
       "3      974\n",
       "4      947\n",
       "5      931\n",
       "6      774\n",
       "7      771\n",
       "8      634\n",
       "9      606\n",
       "10     576\n",
       "11     535\n",
       "12     474\n",
       "13     402\n",
       "14     368\n",
       "15     362\n",
       "16     328\n",
       "17     240\n",
       "18     211\n",
       "19     196\n",
       "20     115\n",
       "Name: leiden_anno, dtype: int64"
      ]
     },
     "execution_count": 8,
     "metadata": {},
     "output_type": "execute_result"
    }
   ],
   "source": [
    "adata.obs['leiden_anno'].value_counts()"
   ]
  },
  {
   "cell_type": "code",
   "execution_count": null,
   "metadata": {
    "colab": {
     "base_uri": "https://localhost:8080/",
     "height": 334
    },
    "id": "qru6CVsyE7xH",
    "outputId": "6e50d23c-93ff-4b51-f27c-0d133376f1b4"
   },
   "outputs": [
    {
     "name": "stdout",
     "output_type": "stream",
     "text": [
      "WARNING: saving figure to file figures/pagakidney_trajectery.png\n"
     ]
    },
    {
     "data": {
      "image/png": "[encoded data removed]",
      "text/plain": [
       "<Figure size 297.68x320 with 1 Axes>"
      ]
     },
     "metadata": {
      "image/png": {
       "height": 299,
       "width": 264
      }
     },
     "output_type": "display_data"
    }
   ],
   "source": [
    "sc.tl.diffmap(adata)\n",
    "sc.pp.neighbors(adata, n_neighbors=20, use_rep='X_diffmap')\n",
    "sc.set_figure_params(dpi=80,dpi_save=300,figsize=[4,4],color_map='RdYlGn_r')\n",
    "sc.tl.paga(adata, groups='leiden_anno')\n",
    "sc.pl.paga(adata, threshold=0.1,fontsize=10,fontweight='normal',frameon=False,edge_width_scale=0.5,random_state=43,save='kidney_trajectery.png',title='KIDNEY_PAGA')"
   ]
  },
  {
   "cell_type": "code",
   "execution_count": null,
   "metadata": {
    "id": "XlcdKyhyFWVZ"
   },
   "outputs": [],
   "source": [
    "import numpy as np\n",
    "adata.uns['iroot'] = np.flatnonzero(adata.obs['leiden_anno']  == '0')[0]\n",
    "sc.tl.dpt(adata,)"
   ]
  },
  {
   "cell_type": "code",
   "execution_count": null,
   "metadata": {
    "id": "8lQrxTQbFOAx"
   },
   "outputs": [],
   "source": [
    "\n",
    "sc.tl.draw_graph(adata, init_pos='paga')\n"
   ]
  },
  {
   "cell_type": "code",
   "execution_count": null,
   "metadata": {
    "colab": {
     "base_uri": "https://localhost:8080/",
     "height": 783
    },
    "id": "-MQJBP0QFoj9",
    "outputId": "68937796-e683-4428-d19a-e24d106c55d7"
   },
   "outputs": [
    {
     "ename": "TypeError",
     "evalue": "ignored",
     "output_type": "error",
     "traceback": [
      "\u001b[0;31m---------------------------------------------------------------------------\u001b[0m",
      "\u001b[0;31mTypeError\u001b[0m                                 Traceback (most recent call last)",
      "\u001b[0;32m<ipython-input-12-4b69a00c3ddf>\u001b[0m in \u001b[0;36m<module>\u001b[0;34m()\u001b[0m\n\u001b[1;32m      1\u001b[0m \u001b[0msc\u001b[0m\u001b[0;34m.\u001b[0m\u001b[0mset_figure_params\u001b[0m\u001b[0;34m(\u001b[0m\u001b[0mdpi\u001b[0m\u001b[0;34m=\u001b[0m\u001b[0;36m80\u001b[0m\u001b[0;34m,\u001b[0m\u001b[0mdpi_save\u001b[0m\u001b[0;34m=\u001b[0m\u001b[0;36m300\u001b[0m\u001b[0;34m,\u001b[0m\u001b[0mfigsize\u001b[0m\u001b[0;34m=\u001b[0m\u001b[0;34m[\u001b[0m\u001b[0;36m4\u001b[0m\u001b[0;34m,\u001b[0m\u001b[0;36m4\u001b[0m\u001b[0;34m]\u001b[0m\u001b[0;34m,\u001b[0m\u001b[0mcolor_map\u001b[0m\u001b[0;34m=\u001b[0m\u001b[0;34m'RdYlGn_r'\u001b[0m\u001b[0;34m)\u001b[0m\u001b[0;34m\u001b[0m\u001b[0;34m\u001b[0m\u001b[0m\n\u001b[0;32m----> 2\u001b[0;31m \u001b[0msc\u001b[0m\u001b[0;34m.\u001b[0m\u001b[0mpl\u001b[0m\u001b[0;34m.\u001b[0m\u001b[0mumap\u001b[0m\u001b[0;34m(\u001b[0m\u001b[0madata\u001b[0m\u001b[0;34m,\u001b[0m \u001b[0mcolor\u001b[0m\u001b[0;34m=\u001b[0m\u001b[0;34m[\u001b[0m\u001b[0;34m'dpt_pseudotime'\u001b[0m\u001b[0;34m,\u001b[0m\u001b[0;34m]\u001b[0m\u001b[0;34m,\u001b[0m\u001b[0mpalette\u001b[0m\u001b[0;34m=\u001b[0m\u001b[0msc\u001b[0m\u001b[0;34m.\u001b[0m\u001b[0mpl\u001b[0m\u001b[0;34m.\u001b[0m\u001b[0mpalettes\u001b[0m\u001b[0;34m.\u001b[0m\u001b[0mvega_20_scanpy\u001b[0m\u001b[0;34m,\u001b[0m\u001b[0mwspace\u001b[0m\u001b[0;34m=\u001b[0m\u001b[0;36m0.2\u001b[0m\u001b[0;34m,\u001b[0m\u001b[0mlegend_fontsize\u001b[0m\u001b[0;34m=\u001b[0m\u001b[0;36m8\u001b[0m\u001b[0;34m,\u001b[0m\u001b[0madd_outline\u001b[0m\u001b[0;34m=\u001b[0m\u001b[0;32mFalse\u001b[0m\u001b[0;34m,\u001b[0m\u001b[0mframeon\u001b[0m\u001b[0;34m=\u001b[0m\u001b[0;32mFalse\u001b[0m\u001b[0;34m,\u001b[0m\u001b[0msave\u001b[0m\u001b[0;34m=\u001b[0m\u001b[0;34m'kidney_umap.png'\u001b[0m\u001b[0;34m)\u001b[0m\u001b[0;34m\u001b[0m\u001b[0;34m\u001b[0m\u001b[0m\n\u001b[0m\u001b[1;32m      3\u001b[0m \u001b[0;31m#sc.pl.draw_graph(adata, color=['batch','dpt_pseudotime'],palette=sc.pl.palettes.vega_20_scanpy,wspace=0.2,legend_fontsize=8,add_outline=False,frameon=False,save='kidney_dpt.png')\u001b[0m\u001b[0;34m\u001b[0m\u001b[0;34m\u001b[0m\u001b[0;34m\u001b[0m\u001b[0m\n",
      "\u001b[0;32m/usr/local/lib/python3.7/dist-packages/scanpy/plotting/_tools/scatterplots.py\u001b[0m in \u001b[0;36mumap\u001b[0;34m(adata, **kwargs)\u001b[0m\n\u001b[1;32m    667\u001b[0m     \u001b[0mtl\u001b[0m\u001b[0;34m.\u001b[0m\u001b[0mumap\u001b[0m\u001b[0;34m\u001b[0m\u001b[0;34m\u001b[0m\u001b[0m\n\u001b[1;32m    668\u001b[0m     \"\"\"\n\u001b[0;32m--> 669\u001b[0;31m     \u001b[0;32mreturn\u001b[0m \u001b[0membedding\u001b[0m\u001b[0;34m(\u001b[0m\u001b[0madata\u001b[0m\u001b[0;34m,\u001b[0m \u001b[0;34m'umap'\u001b[0m\u001b[0;34m,\u001b[0m \u001b[0;34m**\u001b[0m\u001b[0mkwargs\u001b[0m\u001b[0;34m)\u001b[0m\u001b[0;34m\u001b[0m\u001b[0;34m\u001b[0m\u001b[0m\n\u001b[0m\u001b[1;32m    670\u001b[0m \u001b[0;34m\u001b[0m\u001b[0m\n\u001b[1;32m    671\u001b[0m \u001b[0;34m\u001b[0m\u001b[0m\n",
      "\u001b[0;32m/usr/local/lib/python3.7/dist-packages/scanpy/plotting/_tools/scatterplots.py\u001b[0m in \u001b[0;36membedding\u001b[0;34m(adata, basis, color, gene_symbols, use_raw, sort_order, edges, edges_width, edges_color, neighbors_key, arrows, arrows_kwds, groups, components, dimensions, layer, projection, scale_factor, color_map, cmap, palette, na_color, na_in_legend, size, frameon, legend_fontsize, legend_fontweight, legend_loc, legend_fontoutline, colorbar_loc, vmax, vmin, vcenter, norm, add_outline, outline_width, outline_color, ncols, hspace, wspace, title, show, save, ax, return_fig, **kwargs)\u001b[0m\n\u001b[1;32m    451\u001b[0m         \u001b[0;32melif\u001b[0m \u001b[0mcolorbar_loc\u001b[0m \u001b[0;32mis\u001b[0m \u001b[0;32mnot\u001b[0m \u001b[0;32mNone\u001b[0m\u001b[0;34m:\u001b[0m\u001b[0;34m\u001b[0m\u001b[0;34m\u001b[0m\u001b[0m\n\u001b[1;32m    452\u001b[0m             pl.colorbar(\n\u001b[0;32m--> 453\u001b[0;31m                 \u001b[0mcax\u001b[0m\u001b[0;34m,\u001b[0m \u001b[0max\u001b[0m\u001b[0;34m=\u001b[0m\u001b[0max\u001b[0m\u001b[0;34m,\u001b[0m \u001b[0mpad\u001b[0m\u001b[0;34m=\u001b[0m\u001b[0;36m0.01\u001b[0m\u001b[0;34m,\u001b[0m \u001b[0mfraction\u001b[0m\u001b[0;34m=\u001b[0m\u001b[0;36m0.08\u001b[0m\u001b[0;34m,\u001b[0m \u001b[0maspect\u001b[0m\u001b[0;34m=\u001b[0m\u001b[0;36m30\u001b[0m\u001b[0;34m,\u001b[0m \u001b[0mlocation\u001b[0m\u001b[0;34m=\u001b[0m\u001b[0mcolorbar_loc\u001b[0m\u001b[0;34m\u001b[0m\u001b[0;34m\u001b[0m\u001b[0m\n\u001b[0m\u001b[1;32m    454\u001b[0m             )\n\u001b[1;32m    455\u001b[0m \u001b[0;34m\u001b[0m\u001b[0m\n",
      "\u001b[0;32m/usr/local/lib/python3.7/dist-packages/matplotlib/pyplot.py\u001b[0m in \u001b[0;36mcolorbar\u001b[0;34m(mappable, cax, ax, **kw)\u001b[0m\n\u001b[1;32m   2007\u001b[0m       \u001b[0;34m==\u001b[0m\u001b[0;34m==\u001b[0m\u001b[0;34m==\u001b[0m\u001b[0;34m==\u001b[0m\u001b[0;34m=\u001b[0m  \u001b[0;34m==\u001b[0m\u001b[0;34m==\u001b[0m\u001b[0;34m==\u001b[0m\u001b[0;34m==\u001b[0m\u001b[0;34m==\u001b[0m\u001b[0;34m==\u001b[0m\u001b[0;34m==\u001b[0m\u001b[0;34m==\u001b[0m\u001b[0;34m==\u001b[0m\u001b[0;34m==\u001b[0m\u001b[0;34m==\u001b[0m\u001b[0;34m==\u001b[0m\u001b[0;34m==\u001b[0m\u001b[0;34m==\u001b[0m\u001b[0;34m==\u001b[0m\u001b[0;34m==\u001b[0m\u001b[0;34m==\u001b[0m\u001b[0;34m==\u001b[0m\u001b[0;34m==\u001b[0m\u001b[0;34m==\u001b[0m\u001b[0;34m==\u001b[0m\u001b[0;34m==\u001b[0m\u001b[0;34m==\u001b[0m\u001b[0;34m==\u001b[0m\u001b[0;34m==\u001b[0m\u001b[0;34m==\u001b[0m\u001b[0;34m==\u001b[0m\u001b[0;34m=\u001b[0m\u001b[0;34m\u001b[0m\u001b[0;34m\u001b[0m\u001b[0m\n\u001b[1;32m   2008\u001b[0m \u001b[0;34m\u001b[0m\u001b[0m\n\u001b[0;32m-> 2009\u001b[0;31m     \u001b[0;34m.\u001b[0m\u001b[0;34m.\u001b[0m \u001b[0mrubric\u001b[0m\u001b[0;34m:\u001b[0m\u001b[0;34m:\u001b[0m \u001b[0mFootnotes\u001b[0m\u001b[0;34m\u001b[0m\u001b[0;34m\u001b[0m\u001b[0m\n\u001b[0m\u001b[1;32m   2010\u001b[0m \u001b[0;34m\u001b[0m\u001b[0m\n\u001b[1;32m   2011\u001b[0m     .. [#] Rainbow colormaps, ``jet`` in particular, are considered a poor\n",
      "\u001b[0;32m/usr/local/lib/python3.7/dist-packages/matplotlib/figure.py\u001b[0m in \u001b[0;36mcolorbar\u001b[0;34m(self, mappable, cax, ax, use_gridspec, **kw)\u001b[0m\n\u001b[1;32m   2236\u001b[0m         \u001b[0;32mfor\u001b[0m \u001b[0max\u001b[0m \u001b[0;32min\u001b[0m \u001b[0mself\u001b[0m\u001b[0;34m.\u001b[0m\u001b[0maxes\u001b[0m\u001b[0;34m:\u001b[0m\u001b[0;34m\u001b[0m\u001b[0;34m\u001b[0m\u001b[0m\n\u001b[1;32m   2237\u001b[0m             \u001b[0;32mif\u001b[0m \u001b[0;32mnot\u001b[0m \u001b[0misinstance\u001b[0m\u001b[0;34m(\u001b[0m\u001b[0max\u001b[0m\u001b[0;34m,\u001b[0m \u001b[0mSubplotBase\u001b[0m\u001b[0;34m)\u001b[0m\u001b[0;34m:\u001b[0m\u001b[0;34m\u001b[0m\u001b[0;34m\u001b[0m\u001b[0m\n\u001b[0;32m-> 2238\u001b[0;31m                 \u001b[0;31m# Check if sharing a subplots axis\u001b[0m\u001b[0;34m\u001b[0m\u001b[0;34m\u001b[0m\u001b[0;34m\u001b[0m\u001b[0m\n\u001b[0m\u001b[1;32m   2239\u001b[0m                 \u001b[0;32mif\u001b[0m \u001b[0misinstance\u001b[0m\u001b[0;34m(\u001b[0m\u001b[0max\u001b[0m\u001b[0;34m.\u001b[0m\u001b[0m_sharex\u001b[0m\u001b[0;34m,\u001b[0m \u001b[0mSubplotBase\u001b[0m\u001b[0;34m)\u001b[0m\u001b[0;34m:\u001b[0m\u001b[0;34m\u001b[0m\u001b[0;34m\u001b[0m\u001b[0m\n\u001b[1;32m   2240\u001b[0m                     \u001b[0max\u001b[0m\u001b[0;34m.\u001b[0m\u001b[0m_sharex\u001b[0m\u001b[0;34m.\u001b[0m\u001b[0mupdate_params\u001b[0m\u001b[0;34m(\u001b[0m\u001b[0;34m)\u001b[0m\u001b[0;34m\u001b[0m\u001b[0;34m\u001b[0m\u001b[0m\n",
      "\u001b[0;32m/usr/local/lib/python3.7/dist-packages/matplotlib/colorbar.py\u001b[0m in \u001b[0;36mcolorbar_factory\u001b[0;34m(cax, mappable, **kwargs)\u001b[0m\n",
      "\u001b[0;32m/usr/local/lib/python3.7/dist-packages/matplotlib/colorbar.py\u001b[0m in \u001b[0;36m__init__\u001b[0;34m(self, ax, mappable, **kw)\u001b[0m\n\u001b[1;32m   1228\u001b[0m         \u001b[0mthey\u001b[0m \u001b[0mwill\u001b[0m \u001b[0mneed\u001b[0m \u001b[0mto\u001b[0m \u001b[0mbe\u001b[0m \u001b[0mcustomized\u001b[0m \u001b[0magain\u001b[0m\u001b[0;34m.\u001b[0m  \u001b[0mHowever\u001b[0m\u001b[0;34m,\u001b[0m \u001b[0;32mif\u001b[0m \u001b[0mthe\u001b[0m \u001b[0mnorm\u001b[0m \u001b[0monly\u001b[0m\u001b[0;34m\u001b[0m\u001b[0;34m\u001b[0m\u001b[0m\n\u001b[1;32m   1229\u001b[0m         \u001b[0mchanges\u001b[0m \u001b[0mvalues\u001b[0m \u001b[0mof\u001b[0m \u001b[0;34m*\u001b[0m\u001b[0mvmin\u001b[0m\u001b[0;34m*\u001b[0m\u001b[0;34m,\u001b[0m \u001b[0;34m*\u001b[0m\u001b[0mvmax\u001b[0m\u001b[0;34m*\u001b[0m \u001b[0;32mor\u001b[0m \u001b[0;34m*\u001b[0m\u001b[0mcmap\u001b[0m\u001b[0;34m*\u001b[0m \u001b[0mthen\u001b[0m \u001b[0mthe\u001b[0m \u001b[0mold\u001b[0m \u001b[0mformatter\u001b[0m\u001b[0;34m\u001b[0m\u001b[0;34m\u001b[0m\u001b[0m\n\u001b[0;32m-> 1230\u001b[0;31m         \u001b[0;32mand\u001b[0m \u001b[0mlocator\u001b[0m \u001b[0mwill\u001b[0m \u001b[0mbe\u001b[0m \u001b[0mpreserved\u001b[0m\u001b[0;34m.\u001b[0m\u001b[0;34m\u001b[0m\u001b[0;34m\u001b[0m\u001b[0m\n\u001b[0m\u001b[1;32m   1231\u001b[0m         \"\"\"\n\u001b[1;32m   1232\u001b[0m \u001b[0;34m\u001b[0m\u001b[0m\n",
      "\u001b[0;31mTypeError\u001b[0m: __init__() got an unexpected keyword argument 'location'"
     ]
    },
    {
     "data": {
      "image/png": "[encoded data removed]",
      "text/plain": [
       "<Figure size 320x320 with 2 Axes>"
      ]
     },
     "metadata": {
      "image/png": {
       "height": 299,
       "width": 258
      }
     },
     "output_type": "display_data"
    }
   ],
   "source": [
    "sc.set_figure_params(dpi=80,dpi_save=300,figsize=[4,4],color_map='RdYlGn_r')\n",
    "sc.pl.umap(adata, color=['dpt_pseudotime',],palette=sc.pl.palettes.vega_20_scanpy,wspace=0.2,legend_fontsize=8,add_outline=False,frameon=False,save='kidney_umap.png')\n",
    "#sc.pl.draw_graph(adata, color=['batch','dpt_pseudotime'],palette=sc.pl.palettes.vega_20_scanpy,wspace=0.2,legend_fontsize=8,add_outline=False,frameon=False,save='kidney_dpt.png')"
   ]
  },
  {
   "cell_type": "code",
   "execution_count": null,
   "metadata": {
    "id": "B5ZqcQPqGLw3"
   },
   "outputs": [],
   "source": [
    "adata.write_h5ad('bcell_dpt.h5ad',compression='gzip')"
   ]
  },
  {
   "cell_type": "code",
   "execution_count": null,
   "metadata": {
    "id": "n2JNQIf5QOS0"
   },
   "outputs": [],
   "source": [
    "import scanpy as sc\n",
    "from SL_Function import SL_Analysis\n",
    "import pandas as pd\n",
    "import anndata\n",
    "import numpy as np\n",
    "#import data\n",
    "adata=anndata.read_h5ad(\"bcell_dpt.h5ad\")\n",
    "SL_pd=pd.read_csv('sl-for-scrnaseq-full.csv')"
   ]
  },
  {
   "cell_type": "code",
   "execution_count": null,
   "metadata": {
    "colab": {
     "base_uri": "https://localhost:8080/"
    },
    "id": "dWntVh2LQVie",
    "outputId": "6b0673aa-53c2-47eb-fada-b9e44f35d4ff"
   },
   "outputs": [
    {
     "name": "stdout",
     "output_type": "stream",
     "text": [
      "......Analysis SL_count\n"
     ]
    }
   ],
   "source": [
    "print('......Analysis SL_count')\n",
    "adata_c=adata[adata.obs['batch']=='PT']\n",
    "xl=adata_c.var.index.tolist()\n",
    "SL=pd.DataFrame(columns=['gene1','gene2'])\n",
    "\n",
    "#Get the intersection of SL input and the gene name of scRNA-seq\n",
    "ret3= list(set(xl).intersection(SL_pd['gene1'].values))\n",
    "for i in ret3:\n",
    "    ret4=list(set(ret3).intersection(SL_pd.loc[SL_pd['gene1']==i]['gene2'].values))\n",
    "    for j in ret4: \n",
    "        SL=SL.append({'gene1':i,'gene2':j},ignore_index=True)\n",
    "ret5= list(set(xl).intersection(SL_pd['gene2'].values))\n",
    "for i in ret5:\n",
    "    ret6=list(set(ret5).intersection(SL_pd.loc[SL_pd['gene2']==i]['gene1'].values))\n",
    "    for j in ret6: \n",
    "        SL=SL.append({'gene1':j,'gene2':i},ignore_index=True)\n",
    "SL=SL.drop_duplicates(keep='first')"
   ]
  },
  {
   "cell_type": "code",
   "execution_count": null,
   "metadata": {
    "colab": {
     "base_uri": "https://localhost:8080/"
    },
    "id": "64-U0jneQmRr",
    "outputId": "a28d5f60-3a93-47da-c5b5-c0402bda67cd"
   },
   "outputs": [
    {
     "name": "stdout",
     "output_type": "stream",
     "text": [
      "......The same name of gene loc in 226\n"
     ]
    }
   ],
   "source": [
    "#Drop out the same gene of SL\n",
    "sl_len=len(SL)\n",
    "for i in range(sl_len):\n",
    "    if(i==sl_len):\n",
    "        break\n",
    "    if(SL.iloc[i]['gene1']==SL.iloc[i]['gene2']):\n",
    "        print('......The same name of gene loc in',i)\n",
    "        SL=SL.drop(SL.iloc[i].name)\n",
    "        sl_len-=1\n",
    "\n",
    "#Get the result of the pair of SL\n",
    "SL_li=SL['gene1'].values.tolist()+SL['gene2'].values.tolist()\n",
    "SL_li=list(set(SL_li))"
   ]
  },
  {
   "cell_type": "code",
   "execution_count": null,
   "metadata": {
    "colab": {
     "base_uri": "https://localhost:8080/",
     "height": 386
    },
    "id": "oK2hR8k8Q3K7",
    "outputId": "efc8f953-61bf-4386-bc0e-233a0ce11545"
   },
   "outputs": [
    {
     "data": {
      "text/html": [
       "\n",
       "  <div id=\"df-c1f28e6c-c52a-48a6-a043-e6251d7d2354\">\n",
       "    <div class=\"colab-df-container\">\n",
       "      <div>\n",
       "<style scoped>\n",
       "    .dataframe tbody tr th:only-of-type {\n",
       "        vertical-align: middle;\n",
       "    }\n",
       "\n",
       "    .dataframe tbody tr th {\n",
       "        vertical-align: top;\n",
       "    }\n",
       "\n",
       "    .dataframe thead th {\n",
       "        text-align: right;\n",
       "    }\n",
       "</style>\n",
       "<table border=\"1\" class=\"dataframe\">\n",
       "  <thead>\n",
       "    <tr style=\"text-align: right;\">\n",
       "      <th></th>\n",
       "      <th>X</th>\n",
       "      <th>SESN1</th>\n",
       "      <th>CDC42EP2</th>\n",
       "      <th>RAD51B</th>\n",
       "      <th>CA2</th>\n",
       "      <th>LMNA</th>\n",
       "      <th>TUBA1A</th>\n",
       "      <th>STAP1</th>\n",
       "      <th>MCTP1</th>\n",
       "      <th>ZNF860</th>\n",
       "      <th>...</th>\n",
       "      <th>GNB4</th>\n",
       "      <th>KCNQ5</th>\n",
       "      <th>TLR6</th>\n",
       "      <th>ZDHHC23</th>\n",
       "      <th>NPTX2</th>\n",
       "      <th>NTNG1</th>\n",
       "      <th>CREB5</th>\n",
       "      <th>BMPR1A</th>\n",
       "      <th>SOD2</th>\n",
       "      <th>RYK</th>\n",
       "    </tr>\n",
       "  </thead>\n",
       "  <tbody>\n",
       "    <tr>\n",
       "      <th>AAATGCCGTACTTGAC-3-PT</th>\n",
       "      <td>0.023653</td>\n",
       "      <td>2.361920</td>\n",
       "      <td>0.0</td>\n",
       "      <td>0.0</td>\n",
       "      <td>0.0</td>\n",
       "      <td>0.000000</td>\n",
       "      <td>0.0</td>\n",
       "      <td>2.361920</td>\n",
       "      <td>0.0</td>\n",
       "      <td>0.0</td>\n",
       "      <td>...</td>\n",
       "      <td>0.0</td>\n",
       "      <td>0.0</td>\n",
       "      <td>0.000000</td>\n",
       "      <td>0.0</td>\n",
       "      <td>0.0</td>\n",
       "      <td>0.0</td>\n",
       "      <td>0.0</td>\n",
       "      <td>0.0</td>\n",
       "      <td>0.0</td>\n",
       "      <td>0.0</td>\n",
       "    </tr>\n",
       "    <tr>\n",
       "      <th>AACGTTGGTCTGATCA-3-PT</th>\n",
       "      <td>0.183571</td>\n",
       "      <td>0.000000</td>\n",
       "      <td>0.0</td>\n",
       "      <td>0.0</td>\n",
       "      <td>0.0</td>\n",
       "      <td>0.000000</td>\n",
       "      <td>0.0</td>\n",
       "      <td>1.983121</td>\n",
       "      <td>0.0</td>\n",
       "      <td>0.0</td>\n",
       "      <td>...</td>\n",
       "      <td>0.0</td>\n",
       "      <td>0.0</td>\n",
       "      <td>0.000000</td>\n",
       "      <td>0.0</td>\n",
       "      <td>0.0</td>\n",
       "      <td>0.0</td>\n",
       "      <td>0.0</td>\n",
       "      <td>0.0</td>\n",
       "      <td>0.0</td>\n",
       "      <td>0.0</td>\n",
       "    </tr>\n",
       "    <tr>\n",
       "      <th>AACGTTGTCAGTCCCT-3-PT</th>\n",
       "      <td>0.983694</td>\n",
       "      <td>0.000000</td>\n",
       "      <td>0.0</td>\n",
       "      <td>0.0</td>\n",
       "      <td>0.0</td>\n",
       "      <td>0.000000</td>\n",
       "      <td>0.0</td>\n",
       "      <td>0.000000</td>\n",
       "      <td>0.0</td>\n",
       "      <td>0.0</td>\n",
       "      <td>...</td>\n",
       "      <td>0.0</td>\n",
       "      <td>0.0</td>\n",
       "      <td>0.000000</td>\n",
       "      <td>0.0</td>\n",
       "      <td>0.0</td>\n",
       "      <td>0.0</td>\n",
       "      <td>0.0</td>\n",
       "      <td>0.0</td>\n",
       "      <td>0.0</td>\n",
       "      <td>0.0</td>\n",
       "    </tr>\n",
       "    <tr>\n",
       "      <th>AAGTCTGGTACCGAGA-3-PT</th>\n",
       "      <td>0.939626</td>\n",
       "      <td>1.692944</td>\n",
       "      <td>0.0</td>\n",
       "      <td>0.0</td>\n",
       "      <td>0.0</td>\n",
       "      <td>1.692944</td>\n",
       "      <td>0.0</td>\n",
       "      <td>0.000000</td>\n",
       "      <td>0.0</td>\n",
       "      <td>0.0</td>\n",
       "      <td>...</td>\n",
       "      <td>0.0</td>\n",
       "      <td>0.0</td>\n",
       "      <td>1.692944</td>\n",
       "      <td>0.0</td>\n",
       "      <td>0.0</td>\n",
       "      <td>0.0</td>\n",
       "      <td>0.0</td>\n",
       "      <td>0.0</td>\n",
       "      <td>0.0</td>\n",
       "      <td>0.0</td>\n",
       "    </tr>\n",
       "    <tr>\n",
       "      <th>AATCCAGTCCGGGTGT-3-PT</th>\n",
       "      <td>0.913618</td>\n",
       "      <td>0.000000</td>\n",
       "      <td>0.0</td>\n",
       "      <td>0.0</td>\n",
       "      <td>0.0</td>\n",
       "      <td>0.000000</td>\n",
       "      <td>0.0</td>\n",
       "      <td>0.000000</td>\n",
       "      <td>0.0</td>\n",
       "      <td>0.0</td>\n",
       "      <td>...</td>\n",
       "      <td>0.0</td>\n",
       "      <td>0.0</td>\n",
       "      <td>0.000000</td>\n",
       "      <td>0.0</td>\n",
       "      <td>0.0</td>\n",
       "      <td>0.0</td>\n",
       "      <td>0.0</td>\n",
       "      <td>0.0</td>\n",
       "      <td>0.0</td>\n",
       "      <td>0.0</td>\n",
       "    </tr>\n",
       "  </tbody>\n",
       "</table>\n",
       "<p>5 rows × 457 columns</p>\n",
       "</div>\n",
       "      <button class=\"colab-df-convert\" onclick=\"convertToInteractive('df-c1f28e6c-c52a-48a6-a043-e6251d7d2354')\"\n",
       "              title=\"Convert this dataframe to an interactive table.\"\n",
       "              style=\"display:none;\">\n",
       "        \n",
       "  <svg xmlns=\"http://www.w3.org/2000/svg\" height=\"24px\"viewBox=\"0 0 24 24\"\n",
       "       width=\"24px\">\n",
       "    <path d=\"M0 0h24v24H0V0z\" fill=\"none\"/>\n",
       "    <path d=\"M18.56 5.44l.94 2.06.94-2.06 2.06-.94-2.06-.94-.94-2.06-.94 2.06-2.06.94zm-11 1L8.5 8.5l.94-2.06 2.06-.94-2.06-.94L8.5 2.5l-.94 2.06-2.06.94zm10 10l.94 2.06.94-2.06 2.06-.94-2.06-.94-.94-2.06-.94 2.06-2.06.94z\"/><path d=\"M17.41 7.96l-1.37-1.37c-.4-.4-.92-.59-1.43-.59-.52 0-1.04.2-1.43.59L10.3 9.45l-7.72 7.72c-.78.78-.78 2.05 0 2.83L4 21.41c.39.39.9.59 1.41.59.51 0 1.02-.2 1.41-.59l7.78-7.78 2.81-2.81c.8-.78.8-2.07 0-2.86zM5.41 20L4 18.59l7.72-7.72 1.47 1.35L5.41 20z\"/>\n",
       "  </svg>\n",
       "      </button>\n",
       "      \n",
       "  <style>\n",
       "    .colab-df-container {\n",
       "      display:flex;\n",
       "      flex-wrap:wrap;\n",
       "      gap: 12px;\n",
       "    }\n",
       "\n",
       "    .colab-df-convert {\n",
       "      background-color: #E8F0FE;\n",
       "      border: none;\n",
       "      border-radius: 50%;\n",
       "      cursor: pointer;\n",
       "      display: none;\n",
       "      fill: #1967D2;\n",
       "      height: 32px;\n",
       "      padding: 0 0 0 0;\n",
       "      width: 32px;\n",
       "    }\n",
       "\n",
       "    .colab-df-convert:hover {\n",
       "      background-color: #E2EBFA;\n",
       "      box-shadow: 0px 1px 2px rgba(60, 64, 67, 0.3), 0px 1px 3px 1px rgba(60, 64, 67, 0.15);\n",
       "      fill: #174EA6;\n",
       "    }\n",
       "\n",
       "    [theme=dark] .colab-df-convert {\n",
       "      background-color: #3B4455;\n",
       "      fill: #D2E3FC;\n",
       "    }\n",
       "\n",
       "    [theme=dark] .colab-df-convert:hover {\n",
       "      background-color: #434B5C;\n",
       "      box-shadow: 0px 1px 3px 1px rgba(0, 0, 0, 0.15);\n",
       "      filter: drop-shadow(0px 1px 2px rgba(0, 0, 0, 0.3));\n",
       "      fill: #FFFFFF;\n",
       "    }\n",
       "  </style>\n",
       "\n",
       "      <script>\n",
       "        const buttonEl =\n",
       "          document.querySelector('#df-c1f28e6c-c52a-48a6-a043-e6251d7d2354 button.colab-df-convert');\n",
       "        buttonEl.style.display =\n",
       "          google.colab.kernel.accessAllowed ? 'block' : 'none';\n",
       "\n",
       "        async function convertToInteractive(key) {\n",
       "          const element = document.querySelector('#df-c1f28e6c-c52a-48a6-a043-e6251d7d2354');\n",
       "          const dataTable =\n",
       "            await google.colab.kernel.invokeFunction('convertToInteractive',\n",
       "                                                     [key], {});\n",
       "          if (!dataTable) return;\n",
       "\n",
       "          const docLinkHtml = 'Like what you see? Visit the ' +\n",
       "            '<a target=\"_blank\" href=https://colab.research.google.com/notebooks/data_table.ipynb>data table notebook</a>'\n",
       "            + ' to learn more about interactive tables.';\n",
       "          element.innerHTML = '';\n",
       "          dataTable['output_type'] = 'display_data';\n",
       "          await google.colab.output.renderOutput(dataTable, element);\n",
       "          const docLink = document.createElement('div');\n",
       "          docLink.innerHTML = docLinkHtml;\n",
       "          element.appendChild(docLink);\n",
       "        }\n",
       "      </script>\n",
       "    </div>\n",
       "  </div>\n",
       "  "
      ],
      "text/plain": [
       "                              X     SESN1  CDC42EP2  RAD51B  CA2      LMNA  \\\n",
       "AAATGCCGTACTTGAC-3-PT  0.023653  2.361920       0.0     0.0  0.0  0.000000   \n",
       "AACGTTGGTCTGATCA-3-PT  0.183571  0.000000       0.0     0.0  0.0  0.000000   \n",
       "AACGTTGTCAGTCCCT-3-PT  0.983694  0.000000       0.0     0.0  0.0  0.000000   \n",
       "AAGTCTGGTACCGAGA-3-PT  0.939626  1.692944       0.0     0.0  0.0  1.692944   \n",
       "AATCCAGTCCGGGTGT-3-PT  0.913618  0.000000       0.0     0.0  0.0  0.000000   \n",
       "\n",
       "                       TUBA1A     STAP1  MCTP1  ZNF860  ...  GNB4  KCNQ5  \\\n",
       "AAATGCCGTACTTGAC-3-PT     0.0  2.361920    0.0     0.0  ...   0.0    0.0   \n",
       "AACGTTGGTCTGATCA-3-PT     0.0  1.983121    0.0     0.0  ...   0.0    0.0   \n",
       "AACGTTGTCAGTCCCT-3-PT     0.0  0.000000    0.0     0.0  ...   0.0    0.0   \n",
       "AAGTCTGGTACCGAGA-3-PT     0.0  0.000000    0.0     0.0  ...   0.0    0.0   \n",
       "AATCCAGTCCGGGTGT-3-PT     0.0  0.000000    0.0     0.0  ...   0.0    0.0   \n",
       "\n",
       "                           TLR6  ZDHHC23  NPTX2  NTNG1  CREB5  BMPR1A  SOD2  \\\n",
       "AAATGCCGTACTTGAC-3-PT  0.000000      0.0    0.0    0.0    0.0     0.0   0.0   \n",
       "AACGTTGGTCTGATCA-3-PT  0.000000      0.0    0.0    0.0    0.0     0.0   0.0   \n",
       "AACGTTGTCAGTCCCT-3-PT  0.000000      0.0    0.0    0.0    0.0     0.0   0.0   \n",
       "AAGTCTGGTACCGAGA-3-PT  1.692944      0.0    0.0    0.0    0.0     0.0   0.0   \n",
       "AATCCAGTCCGGGTGT-3-PT  0.000000      0.0    0.0    0.0    0.0     0.0   0.0   \n",
       "\n",
       "                       RYK  \n",
       "AAATGCCGTACTTGAC-3-PT  0.0  \n",
       "AACGTTGGTCTGATCA-3-PT  0.0  \n",
       "AACGTTGTCAGTCCCT-3-PT  0.0  \n",
       "AAGTCTGGTACCGAGA-3-PT  0.0  \n",
       "AATCCAGTCCGGGTGT-3-PT  0.0  \n",
       "\n",
       "[5 rows x 457 columns]"
      ]
     },
     "execution_count": 32,
     "metadata": {},
     "output_type": "execute_result"
    }
   ],
   "source": [
    "#Count\n",
    "SL_count=pd.DataFrame()\n",
    "SL_count['X']=adata_c.obs.dpt_pseudotime\n",
    "SL_count_value=pd.DataFrame(adata_c[:,SL_li].X,columns=SL_li,index=adata_c.obs.index)\n",
    "SL_count=pd.concat([SL_count,SL_count_value],axis=1)\n",
    "SL_count.head()"
   ]
  },
  {
   "cell_type": "code",
   "execution_count": null,
   "metadata": {
    "colab": {
     "base_uri": "https://localhost:8080/"
    },
    "id": "FM6YW3QoSFHl",
    "outputId": "2d89098b-1f5e-4ac3-f656-3c17928648b6"
   },
   "outputs": [
    {
     "name": "stdout",
     "output_type": "stream",
     "text": [
      "......Analysis SL_slope\n"
     ]
    }
   ],
   "source": [
    "SL_count_sort=SL_count.sort_values(by='X')\n",
    "print('......Analysis SL_slope')\n",
    "import scipy.stats as stats\n",
    "slope_pd=pd.DataFrame(columns=['slope', 'intercept', 'r_value', 'p_value', 'std_err','average','active','sig'])\n",
    "for i in SL_count_sort.columns[1:]: \n",
    "    if len(SL_count_sort[SL_count_sort[i]!=0].values)==0:\n",
    "        slope, intercept, r_value, p_value, std_err=0,0,0,0,0\n",
    "    else:  \n",
    "        slope, intercept, r_value, p_value, std_err=stats.linregress(SL_count_sort[SL_count_sort[i]!=0]['X'].values, SL_count_sort[SL_count_sort[i]!=0][i].values)\n",
    "    average=np.average(SL_count_sort[i].values)\n",
    "    active='T'\n",
    "    if(average <0.01 and average>-0.01):\n",
    "        active='F'\n",
    "    sig='normal'\n",
    "    \n",
    "    if(slope>0):\n",
    "        sig='high'\n",
    "    elif(slope<0):\n",
    "        sig='low'\n",
    "    slope_pd.loc[i]=[slope, intercept, r_value, p_value, std_err,average,active,sig]\n"
   ]
  },
  {
   "cell_type": "code",
   "execution_count": null,
   "metadata": {
    "colab": {
     "base_uri": "https://localhost:8080/",
     "height": 224
    },
    "id": "exE2jpeZS7SY",
    "outputId": "c1385e3d-3691-461c-be1d-f70ae8947503"
   },
   "outputs": [
    {
     "name": "stdout",
     "output_type": "stream",
     "text": [
      "......Analysis SL_p\n"
     ]
    },
    {
     "data": {
      "text/html": [
       "\n",
       "  <div id=\"df-2d9fa5c7-5faa-4d11-98a4-44c42a7fa44d\">\n",
       "    <div class=\"colab-df-container\">\n",
       "      <div>\n",
       "<style scoped>\n",
       "    .dataframe tbody tr th:only-of-type {\n",
       "        vertical-align: middle;\n",
       "    }\n",
       "\n",
       "    .dataframe tbody tr th {\n",
       "        vertical-align: top;\n",
       "    }\n",
       "\n",
       "    .dataframe thead th {\n",
       "        text-align: right;\n",
       "    }\n",
       "</style>\n",
       "<table border=\"1\" class=\"dataframe\">\n",
       "  <thead>\n",
       "    <tr style=\"text-align: right;\">\n",
       "      <th></th>\n",
       "      <th>dp</th>\n",
       "      <th>type</th>\n",
       "    </tr>\n",
       "  </thead>\n",
       "  <tbody>\n",
       "    <tr>\n",
       "      <th>CA2-PTGS1</th>\n",
       "      <td>-0.153464</td>\n",
       "      <td>5</td>\n",
       "    </tr>\n",
       "    <tr>\n",
       "      <th>CA2-KIT</th>\n",
       "      <td>-0.393851</td>\n",
       "      <td>2</td>\n",
       "    </tr>\n",
       "    <tr>\n",
       "      <th>CA2-CYP3A5</th>\n",
       "      <td>0.060023</td>\n",
       "      <td>2</td>\n",
       "    </tr>\n",
       "    <tr>\n",
       "      <th>CA2-DDR1</th>\n",
       "      <td>0.032768</td>\n",
       "      <td>5</td>\n",
       "    </tr>\n",
       "    <tr>\n",
       "      <th>TUBA1A-WEE1</th>\n",
       "      <td>0.073307</td>\n",
       "      <td>5</td>\n",
       "    </tr>\n",
       "  </tbody>\n",
       "</table>\n",
       "</div>\n",
       "      <button class=\"colab-df-convert\" onclick=\"convertToInteractive('df-2d9fa5c7-5faa-4d11-98a4-44c42a7fa44d')\"\n",
       "              title=\"Convert this dataframe to an interactive table.\"\n",
       "              style=\"display:none;\">\n",
       "        \n",
       "  <svg xmlns=\"http://www.w3.org/2000/svg\" height=\"24px\"viewBox=\"0 0 24 24\"\n",
       "       width=\"24px\">\n",
       "    <path d=\"M0 0h24v24H0V0z\" fill=\"none\"/>\n",
       "    <path d=\"M18.56 5.44l.94 2.06.94-2.06 2.06-.94-2.06-.94-.94-2.06-.94 2.06-2.06.94zm-11 1L8.5 8.5l.94-2.06 2.06-.94-2.06-.94L8.5 2.5l-.94 2.06-2.06.94zm10 10l.94 2.06.94-2.06 2.06-.94-2.06-.94-.94-2.06-.94 2.06-2.06.94z\"/><path d=\"M17.41 7.96l-1.37-1.37c-.4-.4-.92-.59-1.43-.59-.52 0-1.04.2-1.43.59L10.3 9.45l-7.72 7.72c-.78.78-.78 2.05 0 2.83L4 21.41c.39.39.9.59 1.41.59.51 0 1.02-.2 1.41-.59l7.78-7.78 2.81-2.81c.8-.78.8-2.07 0-2.86zM5.41 20L4 18.59l7.72-7.72 1.47 1.35L5.41 20z\"/>\n",
       "  </svg>\n",
       "      </button>\n",
       "      \n",
       "  <style>\n",
       "    .colab-df-container {\n",
       "      display:flex;\n",
       "      flex-wrap:wrap;\n",
       "      gap: 12px;\n",
       "    }\n",
       "\n",
       "    .colab-df-convert {\n",
       "      background-color: #E8F0FE;\n",
       "      border: none;\n",
       "      border-radius: 50%;\n",
       "      cursor: pointer;\n",
       "      display: none;\n",
       "      fill: #1967D2;\n",
       "      height: 32px;\n",
       "      padding: 0 0 0 0;\n",
       "      width: 32px;\n",
       "    }\n",
       "\n",
       "    .colab-df-convert:hover {\n",
       "      background-color: #E2EBFA;\n",
       "      box-shadow: 0px 1px 2px rgba(60, 64, 67, 0.3), 0px 1px 3px 1px rgba(60, 64, 67, 0.15);\n",
       "      fill: #174EA6;\n",
       "    }\n",
       "\n",
       "    [theme=dark] .colab-df-convert {\n",
       "      background-color: #3B4455;\n",
       "      fill: #D2E3FC;\n",
       "    }\n",
       "\n",
       "    [theme=dark] .colab-df-convert:hover {\n",
       "      background-color: #434B5C;\n",
       "      box-shadow: 0px 1px 3px 1px rgba(0, 0, 0, 0.15);\n",
       "      filter: drop-shadow(0px 1px 2px rgba(0, 0, 0, 0.3));\n",
       "      fill: #FFFFFF;\n",
       "    }\n",
       "  </style>\n",
       "\n",
       "      <script>\n",
       "        const buttonEl =\n",
       "          document.querySelector('#df-2d9fa5c7-5faa-4d11-98a4-44c42a7fa44d button.colab-df-convert');\n",
       "        buttonEl.style.display =\n",
       "          google.colab.kernel.accessAllowed ? 'block' : 'none';\n",
       "\n",
       "        async function convertToInteractive(key) {\n",
       "          const element = document.querySelector('#df-2d9fa5c7-5faa-4d11-98a4-44c42a7fa44d');\n",
       "          const dataTable =\n",
       "            await google.colab.kernel.invokeFunction('convertToInteractive',\n",
       "                                                     [key], {});\n",
       "          if (!dataTable) return;\n",
       "\n",
       "          const docLinkHtml = 'Like what you see? Visit the ' +\n",
       "            '<a target=\"_blank\" href=https://colab.research.google.com/notebooks/data_table.ipynb>data table notebook</a>'\n",
       "            + ' to learn more about interactive tables.';\n",
       "          element.innerHTML = '';\n",
       "          dataTable['output_type'] = 'display_data';\n",
       "          await google.colab.output.renderOutput(dataTable, element);\n",
       "          const docLink = document.createElement('div');\n",
       "          docLink.innerHTML = docLinkHtml;\n",
       "          element.appendChild(docLink);\n",
       "        }\n",
       "      </script>\n",
       "    </div>\n",
       "  </div>\n",
       "  "
      ],
      "text/plain": [
       "                   dp type\n",
       "CA2-PTGS1   -0.153464    5\n",
       "CA2-KIT     -0.393851    2\n",
       "CA2-CYP3A5   0.060023    2\n",
       "CA2-DDR1     0.032768    5\n",
       "TUBA1A-WEE1  0.073307    5"
      ]
     },
     "execution_count": 6,
     "metadata": {},
     "output_type": "execute_result"
    }
   ],
   "source": [
    "print('......Analysis SL_p')\n",
    "SL_p=pd.DataFrame(columns=['dp','type'])\n",
    "for i in range(len(SL)):\n",
    "    test=[]\n",
    "    g1,g2=(SL.iloc[i]['gene1']),(SL.iloc[i]['gene2'])\n",
    "    #test.append(SL_count_sort[g1].values)\n",
    "    #test.append(SL_count_sort[g2].values)\n",
    "    #test=np.array(test)\n",
    "    ty=0\n",
    "    if(slope_pd.loc[g1]['active']=='T' and slope_pd.loc[g1]['sig']=='high'):\n",
    "        if(slope_pd.loc[g2]['active']=='F'):\n",
    "            ty=1\n",
    "        elif(slope_pd.loc[g2]['active']=='T' and slope_pd.loc[g2]['sig']=='high'):\n",
    "            ty=4\n",
    "        elif(slope_pd.loc[g2]['active']=='T' and slope_pd.loc[g2]['sig']=='low'):\n",
    "            ty=3\n",
    "    if(slope_pd.loc[g1]['active']=='T' and slope_pd.loc[g1]['sig']=='low'):\n",
    "        if(slope_pd.loc[g2]['active']=='F'):\n",
    "            ty=2\n",
    "        elif(slope_pd.loc[g2]['active']=='T' and slope_pd.loc[g2]['sig']=='high'):\n",
    "            ty=3\n",
    "        elif(slope_pd.loc[g2]['active']=='T' and slope_pd.loc[g2]['sig']=='low'):\n",
    "            ty=5\n",
    "    if(slope_pd.loc[g1]['active']=='F'):\n",
    "        if(slope_pd.loc[g2]['active']=='F'):\n",
    "            ty=6\n",
    "        elif(slope_pd.loc[g2]['active']=='T' and slope_pd.loc[g2]['sig']=='high'):\n",
    "            ty=1\n",
    "        elif(slope_pd.loc[g2]['active']=='T' and slope_pd.loc[g2]['sig']=='low'):\n",
    "            ty=2\n",
    "\n",
    "    SL_p.loc[g1+'-'+g2]={'dp':slope_pd.loc[g1]['slope']-slope_pd.loc[g2]['slope'],'type':ty}\n",
    "SL_p.head()"
   ]
  },
  {
   "cell_type": "code",
   "execution_count": null,
   "metadata": {
    "colab": {
     "base_uri": "https://localhost:8080/"
    },
    "id": "XDro3ZQiJsTb",
    "outputId": "466e720b-11d8-495a-b78c-f7641f7618b5"
   },
   "outputs": [
    {
     "data": {
      "text/plain": [
       "5    398\n",
       "2    139\n",
       "3     66\n",
       "1      8\n",
       "6      7\n",
       "4      3\n",
       "Name: type, dtype: int64"
      ]
     },
     "execution_count": 7,
     "metadata": {},
     "output_type": "execute_result"
    }
   ],
   "source": [
    "SL_p['type'].value_counts()"
   ]
  },
  {
   "cell_type": "code",
   "execution_count": null,
   "metadata": {
    "id": "2cfTJNJjVZkW"
   },
   "outputs": [],
   "source": [
    "SL_count_sort1,slope_pd1,SL_p1=SL_count_sort,slope_pd,SL_p"
   ]
  },
  {
   "cell_type": "code",
   "execution_count": null,
   "metadata": {
    "colab": {
     "base_uri": "https://localhost:8080/"
    },
    "id": "t0IImMzSVk11",
    "outputId": "02a22c93-cb81-4e84-f26f-ed3571cced5e"
   },
   "outputs": [
    {
     "name": "stdout",
     "output_type": "stream",
     "text": [
      "......Analysis SL_count\n"
     ]
    }
   ],
   "source": [
    "print('......Analysis SL_count')\n",
    "adata_c=adata[adata.obs['batch']=='MT']\n",
    "xl=adata_c.var.index.tolist()\n",
    "SL=pd.DataFrame(columns=['gene1','gene2'])\n",
    "\n",
    "#Get the intersection of SL input and the gene name of scRNA-seq\n",
    "ret3= list(set(xl).intersection(SL_pd['gene1'].values))\n",
    "for i in ret3:\n",
    "    ret4=list(set(ret3).intersection(SL_pd.loc[SL_pd['gene1']==i]['gene2'].values))\n",
    "    for j in ret4: \n",
    "        SL=SL.append({'gene1':i,'gene2':j},ignore_index=True)\n",
    "ret5= list(set(xl).intersection(SL_pd['gene2'].values))\n",
    "for i in ret5:\n",
    "    ret6=list(set(ret5).intersection(SL_pd.loc[SL_pd['gene2']==i]['gene1'].values))\n",
    "    for j in ret6: \n",
    "        SL=SL.append({'gene1':j,'gene2':i},ignore_index=True)\n",
    "SL=SL.drop_duplicates(keep='first')"
   ]
  },
  {
   "cell_type": "code",
   "execution_count": null,
   "metadata": {
    "colab": {
     "base_uri": "https://localhost:8080/"
    },
    "id": "WgRV7hB4Vk12",
    "outputId": "a1aa45ce-b388-4f7f-ab72-575c47dd346e"
   },
   "outputs": [
    {
     "name": "stdout",
     "output_type": "stream",
     "text": [
      "......The same name of gene loc in 226\n"
     ]
    }
   ],
   "source": [
    "#Drop out the same gene of SL\n",
    "sl_len=len(SL)\n",
    "for i in range(sl_len):\n",
    "    if(i==sl_len):\n",
    "        break\n",
    "    if(SL.iloc[i]['gene1']==SL.iloc[i]['gene2']):\n",
    "        print('......The same name of gene loc in',i)\n",
    "        SL=SL.drop(SL.iloc[i].name)\n",
    "        sl_len-=1\n",
    "\n",
    "#Get the result of the pair of SL\n",
    "SL_li=SL['gene1'].values.tolist()+SL['gene2'].values.tolist()\n",
    "SL_li=list(set(SL_li))"
   ]
  },
  {
   "cell_type": "code",
   "execution_count": null,
   "metadata": {
    "colab": {
     "base_uri": "https://localhost:8080/"
    },
    "id": "UEhy8fPNVk12",
    "outputId": "0fd2daa5-1211-49c2-fcc9-f9015f21414f"
   },
   "outputs": [
    {
     "name": "stderr",
     "output_type": "stream",
     "text": [
      "/usr/local/lib/python3.7/dist-packages/ipykernel_launcher.py:5: PerformanceWarning: DataFrame is highly fragmented.  This is usually the result of calling `frame.insert` many times, which has poor performance.  Consider joining all columns at once using pd.concat(axis=1) instead.  To get a de-fragmented frame, use `newframe = frame.copy()`\n",
      "  \"\"\"\n"
     ]
    }
   ],
   "source": [
    "#Count\n",
    "SL_count=pd.DataFrame()\n",
    "SL_count['X']=adata_c.obs.dpt_pseudotime\n",
    "for i in SL_li:\n",
    "    SL_count[i]=adata_c[:,i].X"
   ]
  },
  {
   "cell_type": "code",
   "execution_count": null,
   "metadata": {
    "colab": {
     "base_uri": "https://localhost:8080/"
    },
    "id": "OvPPe1j7Vk12",
    "outputId": "9c61660a-348e-4acc-d3c6-66c031e67c01"
   },
   "outputs": [
    {
     "name": "stdout",
     "output_type": "stream",
     "text": [
      "......Analysis SL_slope\n"
     ]
    }
   ],
   "source": [
    "SL_count_sort=SL_count.sort_values(by='X')\n",
    "print('......Analysis SL_slope')\n",
    "import scipy.stats as stats\n",
    "slope_pd=pd.DataFrame(columns=['slope', 'intercept', 'r_value', 'p_value', 'std_err','average','active','sig'])\n",
    "for i in SL_count_sort.columns[1:]: \n",
    "    if len(SL_count_sort[SL_count_sort[i]!=0].values)==0:\n",
    "        slope, intercept, r_value, p_value, std_err=0,0,0,0,0\n",
    "    else:  \n",
    "        slope, intercept, r_value, p_value, std_err=stats.linregress(SL_count_sort[SL_count_sort[i]!=0]['X'].values, SL_count_sort[SL_count_sort[i]!=0][i].values)\n",
    "    average=np.average(SL_count_sort[i].values)\n",
    "    active='T'\n",
    "    if(average <0.01 and average>-0.01):\n",
    "        active='F'\n",
    "    sig='normal'\n",
    "    \n",
    "    if(slope>0):\n",
    "        sig='high'\n",
    "    elif(slope<0):\n",
    "        sig='low'\n",
    "    slope_pd.loc[i]=[slope, intercept, r_value, p_value, std_err,average,active,sig]\n"
   ]
  },
  {
   "cell_type": "code",
   "execution_count": null,
   "metadata": {
    "colab": {
     "base_uri": "https://localhost:8080/",
     "height": 224
    },
    "id": "ZyJNU4FIVk12",
    "outputId": "5bbb0d04-f08d-4cc6-b310-c35c15cd6854"
   },
   "outputs": [
    {
     "name": "stdout",
     "output_type": "stream",
     "text": [
      "......Analysis SL_p\n"
     ]
    },
    {
     "data": {
      "text/html": [
       "\n",
       "  <div id=\"df-43757f7e-196c-4dae-89a8-2e9cf99ce4d6\">\n",
       "    <div class=\"colab-df-container\">\n",
       "      <div>\n",
       "<style scoped>\n",
       "    .dataframe tbody tr th:only-of-type {\n",
       "        vertical-align: middle;\n",
       "    }\n",
       "\n",
       "    .dataframe tbody tr th {\n",
       "        vertical-align: top;\n",
       "    }\n",
       "\n",
       "    .dataframe thead th {\n",
       "        text-align: right;\n",
       "    }\n",
       "</style>\n",
       "<table border=\"1\" class=\"dataframe\">\n",
       "  <thead>\n",
       "    <tr style=\"text-align: right;\">\n",
       "      <th></th>\n",
       "      <th>dp</th>\n",
       "      <th>type</th>\n",
       "    </tr>\n",
       "  </thead>\n",
       "  <tbody>\n",
       "    <tr>\n",
       "      <th>CA2-PTGS1</th>\n",
       "      <td>-0.153464</td>\n",
       "      <td>5</td>\n",
       "    </tr>\n",
       "    <tr>\n",
       "      <th>CA2-KIT</th>\n",
       "      <td>-0.393851</td>\n",
       "      <td>2</td>\n",
       "    </tr>\n",
       "    <tr>\n",
       "      <th>CA2-CYP3A5</th>\n",
       "      <td>0.060023</td>\n",
       "      <td>2</td>\n",
       "    </tr>\n",
       "    <tr>\n",
       "      <th>CA2-DDR1</th>\n",
       "      <td>0.032768</td>\n",
       "      <td>5</td>\n",
       "    </tr>\n",
       "    <tr>\n",
       "      <th>TUBA1A-WEE1</th>\n",
       "      <td>0.073307</td>\n",
       "      <td>5</td>\n",
       "    </tr>\n",
       "  </tbody>\n",
       "</table>\n",
       "</div>\n",
       "      <button class=\"colab-df-convert\" onclick=\"convertToInteractive('df-43757f7e-196c-4dae-89a8-2e9cf99ce4d6')\"\n",
       "              title=\"Convert this dataframe to an interactive table.\"\n",
       "              style=\"display:none;\">\n",
       "        \n",
       "  <svg xmlns=\"http://www.w3.org/2000/svg\" height=\"24px\"viewBox=\"0 0 24 24\"\n",
       "       width=\"24px\">\n",
       "    <path d=\"M0 0h24v24H0V0z\" fill=\"none\"/>\n",
       "    <path d=\"M18.56 5.44l.94 2.06.94-2.06 2.06-.94-2.06-.94-.94-2.06-.94 2.06-2.06.94zm-11 1L8.5 8.5l.94-2.06 2.06-.94-2.06-.94L8.5 2.5l-.94 2.06-2.06.94zm10 10l.94 2.06.94-2.06 2.06-.94-2.06-.94-.94-2.06-.94 2.06-2.06.94z\"/><path d=\"M17.41 7.96l-1.37-1.37c-.4-.4-.92-.59-1.43-.59-.52 0-1.04.2-1.43.59L10.3 9.45l-7.72 7.72c-.78.78-.78 2.05 0 2.83L4 21.41c.39.39.9.59 1.41.59.51 0 1.02-.2 1.41-.59l7.78-7.78 2.81-2.81c.8-.78.8-2.07 0-2.86zM5.41 20L4 18.59l7.72-7.72 1.47 1.35L5.41 20z\"/>\n",
       "  </svg>\n",
       "      </button>\n",
       "      \n",
       "  <style>\n",
       "    .colab-df-container {\n",
       "      display:flex;\n",
       "      flex-wrap:wrap;\n",
       "      gap: 12px;\n",
       "    }\n",
       "\n",
       "    .colab-df-convert {\n",
       "      background-color: #E8F0FE;\n",
       "      border: none;\n",
       "      border-radius: 50%;\n",
       "      cursor: pointer;\n",
       "      display: none;\n",
       "      fill: #1967D2;\n",
       "      height: 32px;\n",
       "      padding: 0 0 0 0;\n",
       "      width: 32px;\n",
       "    }\n",
       "\n",
       "    .colab-df-convert:hover {\n",
       "      background-color: #E2EBFA;\n",
       "      box-shadow: 0px 1px 2px rgba(60, 64, 67, 0.3), 0px 1px 3px 1px rgba(60, 64, 67, 0.15);\n",
       "      fill: #174EA6;\n",
       "    }\n",
       "\n",
       "    [theme=dark] .colab-df-convert {\n",
       "      background-color: #3B4455;\n",
       "      fill: #D2E3FC;\n",
       "    }\n",
       "\n",
       "    [theme=dark] .colab-df-convert:hover {\n",
       "      background-color: #434B5C;\n",
       "      box-shadow: 0px 1px 3px 1px rgba(0, 0, 0, 0.15);\n",
       "      filter: drop-shadow(0px 1px 2px rgba(0, 0, 0, 0.3));\n",
       "      fill: #FFFFFF;\n",
       "    }\n",
       "  </style>\n",
       "\n",
       "      <script>\n",
       "        const buttonEl =\n",
       "          document.querySelector('#df-43757f7e-196c-4dae-89a8-2e9cf99ce4d6 button.colab-df-convert');\n",
       "        buttonEl.style.display =\n",
       "          google.colab.kernel.accessAllowed ? 'block' : 'none';\n",
       "\n",
       "        async function convertToInteractive(key) {\n",
       "          const element = document.querySelector('#df-43757f7e-196c-4dae-89a8-2e9cf99ce4d6');\n",
       "          const dataTable =\n",
       "            await google.colab.kernel.invokeFunction('convertToInteractive',\n",
       "                                                     [key], {});\n",
       "          if (!dataTable) return;\n",
       "\n",
       "          const docLinkHtml = 'Like what you see? Visit the ' +\n",
       "            '<a target=\"_blank\" href=https://colab.research.google.com/notebooks/data_table.ipynb>data table notebook</a>'\n",
       "            + ' to learn more about interactive tables.';\n",
       "          element.innerHTML = '';\n",
       "          dataTable['output_type'] = 'display_data';\n",
       "          await google.colab.output.renderOutput(dataTable, element);\n",
       "          const docLink = document.createElement('div');\n",
       "          docLink.innerHTML = docLinkHtml;\n",
       "          element.appendChild(docLink);\n",
       "        }\n",
       "      </script>\n",
       "    </div>\n",
       "  </div>\n",
       "  "
      ],
      "text/plain": [
       "                   dp type\n",
       "CA2-PTGS1   -0.153464    5\n",
       "CA2-KIT     -0.393851    2\n",
       "CA2-CYP3A5   0.060023    2\n",
       "CA2-DDR1     0.032768    5\n",
       "TUBA1A-WEE1  0.073307    5"
      ]
     },
     "execution_count": 13,
     "metadata": {},
     "output_type": "execute_result"
    }
   ],
   "source": [
    "print('......Analysis SL_p')\n",
    "SL_p=pd.DataFrame(columns=['dp','type'])\n",
    "for i in range(len(SL)):\n",
    "    test=[]\n",
    "    g1,g2=(SL.iloc[i]['gene1']),(SL.iloc[i]['gene2'])\n",
    "    #test.append(SL_count_sort[g1].values)\n",
    "    #test.append(SL_count_sort[g2].values)\n",
    "    #test=np.array(test)\n",
    "    ty=0\n",
    "    if(slope_pd.loc[g1]['active']=='T' and slope_pd.loc[g1]['sig']=='high'):\n",
    "        if(slope_pd.loc[g2]['active']=='F'):\n",
    "            ty=1\n",
    "        elif(slope_pd.loc[g2]['active']=='T' and slope_pd.loc[g2]['sig']=='high'):\n",
    "            ty=4\n",
    "        elif(slope_pd.loc[g2]['active']=='T' and slope_pd.loc[g2]['sig']=='low'):\n",
    "            ty=3\n",
    "    if(slope_pd.loc[g1]['active']=='T' and slope_pd.loc[g1]['sig']=='low'):\n",
    "        if(slope_pd.loc[g2]['active']=='F'):\n",
    "            ty=2\n",
    "        elif(slope_pd.loc[g2]['active']=='T' and slope_pd.loc[g2]['sig']=='high'):\n",
    "            ty=3\n",
    "        elif(slope_pd.loc[g2]['active']=='T' and slope_pd.loc[g2]['sig']=='low'):\n",
    "            ty=5\n",
    "    if(slope_pd.loc[g1]['active']=='F'):\n",
    "        if(slope_pd.loc[g2]['active']=='F'):\n",
    "            ty=6\n",
    "        elif(slope_pd.loc[g2]['active']=='T' and slope_pd.loc[g2]['sig']=='high'):\n",
    "            ty=1\n",
    "        elif(slope_pd.loc[g2]['active']=='T' and slope_pd.loc[g2]['sig']=='low'):\n",
    "            ty=2\n",
    "\n",
    "    SL_p.loc[g1+'-'+g2]={'dp':slope_pd.loc[g1]['slope']-slope_pd.loc[g2]['slope'],'type':ty}\n",
    "SL_p.head()"
   ]
  },
  {
   "cell_type": "code",
   "execution_count": null,
   "metadata": {
    "colab": {
     "base_uri": "https://localhost:8080/"
    },
    "id": "yzI1lRtvVk13",
    "outputId": "d9ccf50b-72f9-486b-a403-e87a9d33594e"
   },
   "outputs": [
    {
     "data": {
      "text/plain": [
       "5    398\n",
       "2    139\n",
       "3     66\n",
       "1      8\n",
       "6      7\n",
       "4      3\n",
       "Name: type, dtype: int64"
      ]
     },
     "execution_count": 14,
     "metadata": {},
     "output_type": "execute_result"
    }
   ],
   "source": [
    "SL_p['type'].value_counts()"
   ]
  },
  {
   "cell_type": "code",
   "execution_count": null,
   "metadata": {
    "colab": {
     "base_uri": "https://localhost:8080/"
    },
    "id": "csEyFghyVulH",
    "outputId": "663f49a2-1e20-4c42-f435-32aa170d5a3b"
   },
   "outputs": [
    {
     "name": "stdout",
     "output_type": "stream",
     "text": [
      "......Analysis SL_count\n",
      "......The same name of gene loc in 261\n",
      "......Analysis SL_slope\n",
      "......Analysis SL_p\n",
      "......Analysis SL_count\n",
      "......The same name of gene loc in 261\n",
      "......Analysis SL_slope\n",
      "......Analysis SL_p\n"
     ]
    }
   ],
   "source": [
    "#Analysis Cancer \n",
    "adata_c=adata[adata.obs['batch']=='PT']\n",
    "SL_c=SL_Analysis(adata_c,SL_pd)\n",
    "SL_c.Lazy_analysis(['SL_count_PT.csv','SL_slope_PT.csv','SL_pair_PT.csv'])\n",
    "#Analysis Paracancer\n",
    "adata_p=adata[adata.obs['batch']=='MT']\n",
    "SL_p=SL_Analysis(adata_p,SL_pd)\n",
    "SL_p.Lazy_analysis(['SL_count_MT.csv','SL_slope_MT.csv','SL_pair_MT.csv'])"
   ]
  },
  {
   "cell_type": "code",
   "execution_count": null,
   "metadata": {
    "colab": {
     "base_uri": "https://localhost:8080/"
    },
    "id": "PlITjr0xYGlK",
    "outputId": "80bff447-2f83-4cd8-d887-c237cb0fdc52"
   },
   "outputs": [
    {
     "data": {
      "text/plain": [
       "5    386\n",
       "2    148\n",
       "3     65\n",
       "6      9\n",
       "1      9\n",
       "4      4\n",
       "Name: type, dtype: int64"
      ]
     },
     "execution_count": 4,
     "metadata": {},
     "output_type": "execute_result"
    }
   ],
   "source": [
    "SL_c.SL_p['type'].value_counts()"
   ]
  },
  {
   "cell_type": "code",
   "execution_count": null,
   "metadata": {
    "colab": {
     "base_uri": "https://localhost:8080/"
    },
    "id": "JTJrZfbiYoKA",
    "outputId": "fc8ae95e-88d6-499d-9e6a-49cc2c96d05d"
   },
   "outputs": [
    {
     "data": {
      "text/plain": [
       "5    399\n",
       "2    132\n",
       "3     69\n",
       "1     12\n",
       "6      7\n",
       "4      2\n",
       "Name: type, dtype: int64"
      ]
     },
     "execution_count": 5,
     "metadata": {},
     "output_type": "execute_result"
    }
   ],
   "source": [
    "SL_p.SL_p['type'].value_counts()"
   ]
  },
  {
   "cell_type": "code",
   "execution_count": null,
   "metadata": {
    "colab": {
     "base_uri": "https://localhost:8080/",
     "height": 206
    },
    "id": "uWq_VPvtYtPU",
    "outputId": "636a5388-db27-4254-b76f-e8727635fe26"
   },
   "outputs": [
    {
     "data": {
      "text/html": [
       "\n",
       "  <div id=\"df-bc9d3086-1e2d-4fdc-b0a5-255c6a2e44fa\">\n",
       "    <div class=\"colab-df-container\">\n",
       "      <div>\n",
       "<style scoped>\n",
       "    .dataframe tbody tr th:only-of-type {\n",
       "        vertical-align: middle;\n",
       "    }\n",
       "\n",
       "    .dataframe tbody tr th {\n",
       "        vertical-align: top;\n",
       "    }\n",
       "\n",
       "    .dataframe thead th {\n",
       "        text-align: right;\n",
       "    }\n",
       "</style>\n",
       "<table border=\"1\" class=\"dataframe\">\n",
       "  <thead>\n",
       "    <tr style=\"text-align: right;\">\n",
       "      <th></th>\n",
       "      <th>dp</th>\n",
       "      <th>type</th>\n",
       "    </tr>\n",
       "  </thead>\n",
       "  <tbody>\n",
       "    <tr>\n",
       "      <th>RASGRF1-MYC</th>\n",
       "      <td>-0.031200</td>\n",
       "      <td>5</td>\n",
       "    </tr>\n",
       "    <tr>\n",
       "      <th>DYRK2-MDM2</th>\n",
       "      <td>-0.598261</td>\n",
       "      <td>5</td>\n",
       "    </tr>\n",
       "    <tr>\n",
       "      <th>ERBB2-MAPK1</th>\n",
       "      <td>0.160935</td>\n",
       "      <td>2</td>\n",
       "    </tr>\n",
       "    <tr>\n",
       "      <th>ERBB2-MYC</th>\n",
       "      <td>-0.007576</td>\n",
       "      <td>2</td>\n",
       "    </tr>\n",
       "    <tr>\n",
       "      <th>ERBB2-SLC16A5</th>\n",
       "      <td>0.163526</td>\n",
       "      <td>6</td>\n",
       "    </tr>\n",
       "  </tbody>\n",
       "</table>\n",
       "</div>\n",
       "      <button class=\"colab-df-convert\" onclick=\"convertToInteractive('df-bc9d3086-1e2d-4fdc-b0a5-255c6a2e44fa')\"\n",
       "              title=\"Convert this dataframe to an interactive table.\"\n",
       "              style=\"display:none;\">\n",
       "        \n",
       "  <svg xmlns=\"http://www.w3.org/2000/svg\" height=\"24px\"viewBox=\"0 0 24 24\"\n",
       "       width=\"24px\">\n",
       "    <path d=\"M0 0h24v24H0V0z\" fill=\"none\"/>\n",
       "    <path d=\"M18.56 5.44l.94 2.06.94-2.06 2.06-.94-2.06-.94-.94-2.06-.94 2.06-2.06.94zm-11 1L8.5 8.5l.94-2.06 2.06-.94-2.06-.94L8.5 2.5l-.94 2.06-2.06.94zm10 10l.94 2.06.94-2.06 2.06-.94-2.06-.94-.94-2.06-.94 2.06-2.06.94z\"/><path d=\"M17.41 7.96l-1.37-1.37c-.4-.4-.92-.59-1.43-.59-.52 0-1.04.2-1.43.59L10.3 9.45l-7.72 7.72c-.78.78-.78 2.05 0 2.83L4 21.41c.39.39.9.59 1.41.59.51 0 1.02-.2 1.41-.59l7.78-7.78 2.81-2.81c.8-.78.8-2.07 0-2.86zM5.41 20L4 18.59l7.72-7.72 1.47 1.35L5.41 20z\"/>\n",
       "  </svg>\n",
       "      </button>\n",
       "      \n",
       "  <style>\n",
       "    .colab-df-container {\n",
       "      display:flex;\n",
       "      flex-wrap:wrap;\n",
       "      gap: 12px;\n",
       "    }\n",
       "\n",
       "    .colab-df-convert {\n",
       "      background-color: #E8F0FE;\n",
       "      border: none;\n",
       "      border-radius: 50%;\n",
       "      cursor: pointer;\n",
       "      display: none;\n",
       "      fill: #1967D2;\n",
       "      height: 32px;\n",
       "      padding: 0 0 0 0;\n",
       "      width: 32px;\n",
       "    }\n",
       "\n",
       "    .colab-df-convert:hover {\n",
       "      background-color: #E2EBFA;\n",
       "      box-shadow: 0px 1px 2px rgba(60, 64, 67, 0.3), 0px 1px 3px 1px rgba(60, 64, 67, 0.15);\n",
       "      fill: #174EA6;\n",
       "    }\n",
       "\n",
       "    [theme=dark] .colab-df-convert {\n",
       "      background-color: #3B4455;\n",
       "      fill: #D2E3FC;\n",
       "    }\n",
       "\n",
       "    [theme=dark] .colab-df-convert:hover {\n",
       "      background-color: #434B5C;\n",
       "      box-shadow: 0px 1px 3px 1px rgba(0, 0, 0, 0.15);\n",
       "      filter: drop-shadow(0px 1px 2px rgba(0, 0, 0, 0.3));\n",
       "      fill: #FFFFFF;\n",
       "    }\n",
       "  </style>\n",
       "\n",
       "      <script>\n",
       "        const buttonEl =\n",
       "          document.querySelector('#df-bc9d3086-1e2d-4fdc-b0a5-255c6a2e44fa button.colab-df-convert');\n",
       "        buttonEl.style.display =\n",
       "          google.colab.kernel.accessAllowed ? 'block' : 'none';\n",
       "\n",
       "        async function convertToInteractive(key) {\n",
       "          const element = document.querySelector('#df-bc9d3086-1e2d-4fdc-b0a5-255c6a2e44fa');\n",
       "          const dataTable =\n",
       "            await google.colab.kernel.invokeFunction('convertToInteractive',\n",
       "                                                     [key], {});\n",
       "          if (!dataTable) return;\n",
       "\n",
       "          const docLinkHtml = 'Like what you see? Visit the ' +\n",
       "            '<a target=\"_blank\" href=https://colab.research.google.com/notebooks/data_table.ipynb>data table notebook</a>'\n",
       "            + ' to learn more about interactive tables.';\n",
       "          element.innerHTML = '';\n",
       "          dataTable['output_type'] = 'display_data';\n",
       "          await google.colab.output.renderOutput(dataTable, element);\n",
       "          const docLink = document.createElement('div');\n",
       "          docLink.innerHTML = docLinkHtml;\n",
       "          element.appendChild(docLink);\n",
       "        }\n",
       "      </script>\n",
       "    </div>\n",
       "  </div>\n",
       "  "
      ],
      "text/plain": [
       "                     dp type\n",
       "RASGRF1-MYC   -0.031200    5\n",
       "DYRK2-MDM2    -0.598261    5\n",
       "ERBB2-MAPK1    0.160935    2\n",
       "ERBB2-MYC     -0.007576    2\n",
       "ERBB2-SLC16A5  0.163526    6"
      ]
     },
     "execution_count": 6,
     "metadata": {},
     "output_type": "execute_result"
    }
   ],
   "source": [
    "SL_c.SL_p.head()"
   ]
  },
  {
   "cell_type": "code",
   "execution_count": null,
   "metadata": {
    "colab": {
     "base_uri": "https://localhost:8080/",
     "height": 206
    },
    "id": "DQtF-rxUZOY0",
    "outputId": "21cf333e-5555-4276-f98c-2f13937ce5ef"
   },
   "outputs": [
    {
     "data": {
      "text/html": [
       "\n",
       "  <div id=\"df-81c3e126-63b6-4d16-ace9-cc038116d547\">\n",
       "    <div class=\"colab-df-container\">\n",
       "      <div>\n",
       "<style scoped>\n",
       "    .dataframe tbody tr th:only-of-type {\n",
       "        vertical-align: middle;\n",
       "    }\n",
       "\n",
       "    .dataframe tbody tr th {\n",
       "        vertical-align: top;\n",
       "    }\n",
       "\n",
       "    .dataframe thead th {\n",
       "        text-align: right;\n",
       "    }\n",
       "</style>\n",
       "<table border=\"1\" class=\"dataframe\">\n",
       "  <thead>\n",
       "    <tr style=\"text-align: right;\">\n",
       "      <th></th>\n",
       "      <th>dp</th>\n",
       "      <th>type</th>\n",
       "    </tr>\n",
       "  </thead>\n",
       "  <tbody>\n",
       "    <tr>\n",
       "      <th>RASGRF1-MYC</th>\n",
       "      <td>-0.026289</td>\n",
       "      <td>5</td>\n",
       "    </tr>\n",
       "    <tr>\n",
       "      <th>DYRK2-MDM2</th>\n",
       "      <td>-0.579043</td>\n",
       "      <td>5</td>\n",
       "    </tr>\n",
       "    <tr>\n",
       "      <th>ERBB2-MAPK1</th>\n",
       "      <td>-0.173656</td>\n",
       "      <td>2</td>\n",
       "    </tr>\n",
       "    <tr>\n",
       "      <th>ERBB2-MYC</th>\n",
       "      <td>-0.468153</td>\n",
       "      <td>2</td>\n",
       "    </tr>\n",
       "    <tr>\n",
       "      <th>ERBB2-SLC16A5</th>\n",
       "      <td>-0.183126</td>\n",
       "      <td>6</td>\n",
       "    </tr>\n",
       "  </tbody>\n",
       "</table>\n",
       "</div>\n",
       "      <button class=\"colab-df-convert\" onclick=\"convertToInteractive('df-81c3e126-63b6-4d16-ace9-cc038116d547')\"\n",
       "              title=\"Convert this dataframe to an interactive table.\"\n",
       "              style=\"display:none;\">\n",
       "        \n",
       "  <svg xmlns=\"http://www.w3.org/2000/svg\" height=\"24px\"viewBox=\"0 0 24 24\"\n",
       "       width=\"24px\">\n",
       "    <path d=\"M0 0h24v24H0V0z\" fill=\"none\"/>\n",
       "    <path d=\"M18.56 5.44l.94 2.06.94-2.06 2.06-.94-2.06-.94-.94-2.06-.94 2.06-2.06.94zm-11 1L8.5 8.5l.94-2.06 2.06-.94-2.06-.94L8.5 2.5l-.94 2.06-2.06.94zm10 10l.94 2.06.94-2.06 2.06-.94-2.06-.94-.94-2.06-.94 2.06-2.06.94z\"/><path d=\"M17.41 7.96l-1.37-1.37c-.4-.4-.92-.59-1.43-.59-.52 0-1.04.2-1.43.59L10.3 9.45l-7.72 7.72c-.78.78-.78 2.05 0 2.83L4 21.41c.39.39.9.59 1.41.59.51 0 1.02-.2 1.41-.59l7.78-7.78 2.81-2.81c.8-.78.8-2.07 0-2.86zM5.41 20L4 18.59l7.72-7.72 1.47 1.35L5.41 20z\"/>\n",
       "  </svg>\n",
       "      </button>\n",
       "      \n",
       "  <style>\n",
       "    .colab-df-container {\n",
       "      display:flex;\n",
       "      flex-wrap:wrap;\n",
       "      gap: 12px;\n",
       "    }\n",
       "\n",
       "    .colab-df-convert {\n",
       "      background-color: #E8F0FE;\n",
       "      border: none;\n",
       "      border-radius: 50%;\n",
       "      cursor: pointer;\n",
       "      display: none;\n",
       "      fill: #1967D2;\n",
       "      height: 32px;\n",
       "      padding: 0 0 0 0;\n",
       "      width: 32px;\n",
       "    }\n",
       "\n",
       "    .colab-df-convert:hover {\n",
       "      background-color: #E2EBFA;\n",
       "      box-shadow: 0px 1px 2px rgba(60, 64, 67, 0.3), 0px 1px 3px 1px rgba(60, 64, 67, 0.15);\n",
       "      fill: #174EA6;\n",
       "    }\n",
       "\n",
       "    [theme=dark] .colab-df-convert {\n",
       "      background-color: #3B4455;\n",
       "      fill: #D2E3FC;\n",
       "    }\n",
       "\n",
       "    [theme=dark] .colab-df-convert:hover {\n",
       "      background-color: #434B5C;\n",
       "      box-shadow: 0px 1px 3px 1px rgba(0, 0, 0, 0.15);\n",
       "      filter: drop-shadow(0px 1px 2px rgba(0, 0, 0, 0.3));\n",
       "      fill: #FFFFFF;\n",
       "    }\n",
       "  </style>\n",
       "\n",
       "      <script>\n",
       "        const buttonEl =\n",
       "          document.querySelector('#df-81c3e126-63b6-4d16-ace9-cc038116d547 button.colab-df-convert');\n",
       "        buttonEl.style.display =\n",
       "          google.colab.kernel.accessAllowed ? 'block' : 'none';\n",
       "\n",
       "        async function convertToInteractive(key) {\n",
       "          const element = document.querySelector('#df-81c3e126-63b6-4d16-ace9-cc038116d547');\n",
       "          const dataTable =\n",
       "            await google.colab.kernel.invokeFunction('convertToInteractive',\n",
       "                                                     [key], {});\n",
       "          if (!dataTable) return;\n",
       "\n",
       "          const docLinkHtml = 'Like what you see? Visit the ' +\n",
       "            '<a target=\"_blank\" href=https://colab.research.google.com/notebooks/data_table.ipynb>data table notebook</a>'\n",
       "            + ' to learn more about interactive tables.';\n",
       "          element.innerHTML = '';\n",
       "          dataTable['output_type'] = 'display_data';\n",
       "          await google.colab.output.renderOutput(dataTable, element);\n",
       "          const docLink = document.createElement('div');\n",
       "          docLink.innerHTML = docLinkHtml;\n",
       "          element.appendChild(docLink);\n",
       "        }\n",
       "      </script>\n",
       "    </div>\n",
       "  </div>\n",
       "  "
      ],
      "text/plain": [
       "                     dp type\n",
       "RASGRF1-MYC   -0.026289    5\n",
       "DYRK2-MDM2    -0.579043    5\n",
       "ERBB2-MAPK1   -0.173656    2\n",
       "ERBB2-MYC     -0.468153    2\n",
       "ERBB2-SLC16A5 -0.183126    6"
      ]
     },
     "execution_count": 7,
     "metadata": {},
     "output_type": "execute_result"
    }
   ],
   "source": [
    "SL_p.SL_p.head()"
   ]
  },
  {
   "cell_type": "code",
   "execution_count": null,
   "metadata": {
    "colab": {
     "base_uri": "https://localhost:8080/",
     "height": 206
    },
    "id": "cIvURMF0ZP7C",
    "outputId": "7458c7e3-6b9b-4ed5-9f8b-49c8a77886f5"
   },
   "outputs": [
    {
     "data": {
      "text/html": [
       "\n",
       "  <div id=\"df-b5208207-10b9-403c-b186-f7b891316ce6\">\n",
       "    <div class=\"colab-df-container\">\n",
       "      <div>\n",
       "<style scoped>\n",
       "    .dataframe tbody tr th:only-of-type {\n",
       "        vertical-align: middle;\n",
       "    }\n",
       "\n",
       "    .dataframe tbody tr th {\n",
       "        vertical-align: top;\n",
       "    }\n",
       "\n",
       "    .dataframe thead th {\n",
       "        text-align: right;\n",
       "    }\n",
       "</style>\n",
       "<table border=\"1\" class=\"dataframe\">\n",
       "  <thead>\n",
       "    <tr style=\"text-align: right;\">\n",
       "      <th></th>\n",
       "      <th>PT_Type</th>\n",
       "      <th>MT_Type</th>\n",
       "      <th>PT-MT</th>\n",
       "      <th>Value</th>\n",
       "    </tr>\n",
       "  </thead>\n",
       "  <tbody>\n",
       "    <tr>\n",
       "      <th>RASGRF1-MYC</th>\n",
       "      <td>Type_5</td>\n",
       "      <td>Type_5</td>\n",
       "      <td>Type_5-Type_5</td>\n",
       "      <td>1</td>\n",
       "    </tr>\n",
       "    <tr>\n",
       "      <th>DYRK2-MDM2</th>\n",
       "      <td>Type_5</td>\n",
       "      <td>Type_5</td>\n",
       "      <td>Type_5-Type_5</td>\n",
       "      <td>1</td>\n",
       "    </tr>\n",
       "    <tr>\n",
       "      <th>ERBB2-MAPK1</th>\n",
       "      <td>Type_2</td>\n",
       "      <td>Type_2</td>\n",
       "      <td>Type_2-Type_2</td>\n",
       "      <td>1</td>\n",
       "    </tr>\n",
       "    <tr>\n",
       "      <th>ERBB2-MYC</th>\n",
       "      <td>Type_2</td>\n",
       "      <td>Type_2</td>\n",
       "      <td>Type_2-Type_2</td>\n",
       "      <td>1</td>\n",
       "    </tr>\n",
       "    <tr>\n",
       "      <th>ERBB2-SLC16A5</th>\n",
       "      <td>Type_6</td>\n",
       "      <td>Type_6</td>\n",
       "      <td>Type_6-Type_6</td>\n",
       "      <td>1</td>\n",
       "    </tr>\n",
       "  </tbody>\n",
       "</table>\n",
       "</div>\n",
       "      <button class=\"colab-df-convert\" onclick=\"convertToInteractive('df-b5208207-10b9-403c-b186-f7b891316ce6')\"\n",
       "              title=\"Convert this dataframe to an interactive table.\"\n",
       "              style=\"display:none;\">\n",
       "        \n",
       "  <svg xmlns=\"http://www.w3.org/2000/svg\" height=\"24px\"viewBox=\"0 0 24 24\"\n",
       "       width=\"24px\">\n",
       "    <path d=\"M0 0h24v24H0V0z\" fill=\"none\"/>\n",
       "    <path d=\"M18.56 5.44l.94 2.06.94-2.06 2.06-.94-2.06-.94-.94-2.06-.94 2.06-2.06.94zm-11 1L8.5 8.5l.94-2.06 2.06-.94-2.06-.94L8.5 2.5l-.94 2.06-2.06.94zm10 10l.94 2.06.94-2.06 2.06-.94-2.06-.94-.94-2.06-.94 2.06-2.06.94z\"/><path d=\"M17.41 7.96l-1.37-1.37c-.4-.4-.92-.59-1.43-.59-.52 0-1.04.2-1.43.59L10.3 9.45l-7.72 7.72c-.78.78-.78 2.05 0 2.83L4 21.41c.39.39.9.59 1.41.59.51 0 1.02-.2 1.41-.59l7.78-7.78 2.81-2.81c.8-.78.8-2.07 0-2.86zM5.41 20L4 18.59l7.72-7.72 1.47 1.35L5.41 20z\"/>\n",
       "  </svg>\n",
       "      </button>\n",
       "      \n",
       "  <style>\n",
       "    .colab-df-container {\n",
       "      display:flex;\n",
       "      flex-wrap:wrap;\n",
       "      gap: 12px;\n",
       "    }\n",
       "\n",
       "    .colab-df-convert {\n",
       "      background-color: #E8F0FE;\n",
       "      border: none;\n",
       "      border-radius: 50%;\n",
       "      cursor: pointer;\n",
       "      display: none;\n",
       "      fill: #1967D2;\n",
       "      height: 32px;\n",
       "      padding: 0 0 0 0;\n",
       "      width: 32px;\n",
       "    }\n",
       "\n",
       "    .colab-df-convert:hover {\n",
       "      background-color: #E2EBFA;\n",
       "      box-shadow: 0px 1px 2px rgba(60, 64, 67, 0.3), 0px 1px 3px 1px rgba(60, 64, 67, 0.15);\n",
       "      fill: #174EA6;\n",
       "    }\n",
       "\n",
       "    [theme=dark] .colab-df-convert {\n",
       "      background-color: #3B4455;\n",
       "      fill: #D2E3FC;\n",
       "    }\n",
       "\n",
       "    [theme=dark] .colab-df-convert:hover {\n",
       "      background-color: #434B5C;\n",
       "      box-shadow: 0px 1px 3px 1px rgba(0, 0, 0, 0.15);\n",
       "      filter: drop-shadow(0px 1px 2px rgba(0, 0, 0, 0.3));\n",
       "      fill: #FFFFFF;\n",
       "    }\n",
       "  </style>\n",
       "\n",
       "      <script>\n",
       "        const buttonEl =\n",
       "          document.querySelector('#df-b5208207-10b9-403c-b186-f7b891316ce6 button.colab-df-convert');\n",
       "        buttonEl.style.display =\n",
       "          google.colab.kernel.accessAllowed ? 'block' : 'none';\n",
       "\n",
       "        async function convertToInteractive(key) {\n",
       "          const element = document.querySelector('#df-b5208207-10b9-403c-b186-f7b891316ce6');\n",
       "          const dataTable =\n",
       "            await google.colab.kernel.invokeFunction('convertToInteractive',\n",
       "                                                     [key], {});\n",
       "          if (!dataTable) return;\n",
       "\n",
       "          const docLinkHtml = 'Like what you see? Visit the ' +\n",
       "            '<a target=\"_blank\" href=https://colab.research.google.com/notebooks/data_table.ipynb>data table notebook</a>'\n",
       "            + ' to learn more about interactive tables.';\n",
       "          element.innerHTML = '';\n",
       "          dataTable['output_type'] = 'display_data';\n",
       "          await google.colab.output.renderOutput(dataTable, element);\n",
       "          const docLink = document.createElement('div');\n",
       "          docLink.innerHTML = docLinkHtml;\n",
       "          element.appendChild(docLink);\n",
       "        }\n",
       "      </script>\n",
       "    </div>\n",
       "  </div>\n",
       "  "
      ],
      "text/plain": [
       "              PT_Type MT_Type          PT-MT  Value\n",
       "RASGRF1-MYC    Type_5  Type_5  Type_5-Type_5      1\n",
       "DYRK2-MDM2     Type_5  Type_5  Type_5-Type_5      1\n",
       "ERBB2-MAPK1    Type_2  Type_2  Type_2-Type_2      1\n",
       "ERBB2-MYC      Type_2  Type_2  Type_2-Type_2      1\n",
       "ERBB2-SLC16A5  Type_6  Type_6  Type_6-Type_6      1"
      ]
     },
     "execution_count": 57,
     "metadata": {},
     "output_type": "execute_result"
    }
   ],
   "source": [
    "SL_t=pd.DataFrame(index=SL_p.SL_p.index)\n",
    "SL_t['PT_Type']=['Type_'+str(i) for i in SL_c.SL_p['type']]\n",
    "SL_t['MT_Type']=['Type_'+str(i) for i in SL_p.SL_p['type']]\n",
    "SL_t['PT-MT']=[SL_t.loc[i,'PT_Type']+'-'+SL_t.loc[i,'MT_Type'] for i in SL_t.index]\n",
    "SL_t['Value']=1\n",
    "SL_t.head()"
   ]
  },
  {
   "cell_type": "code",
   "execution_count": null,
   "metadata": {
    "id": "fd8-T48Tm6gU"
   },
   "outputs": [],
   "source": [
    "# Import the sankey function from the sankey module within pySankey\n",
    "from pySankey.sankey import sankey"
   ]
  },
  {
   "cell_type": "code",
   "execution_count": null,
   "metadata": {
    "id": "lbR9gBSatsmG"
   },
   "outputs": [],
   "source": [
    "sc.settings.set_figure_params(dpi=80, facecolor='white')"
   ]
  },
  {
   "cell_type": "code",
   "execution_count": null,
   "metadata": {
    "colab": {
     "base_uri": "https://localhost:8080/",
     "height": 450
    },
    "id": "dc3oY7S4lk_x",
    "outputId": "04f063f3-6907-4a0a-dca0-13830fc56c6a"
   },
   "outputs": [
    {
     "name": "stderr",
     "output_type": "stream",
     "text": [
      "findfont: Font family ['serif'] not found. Falling back to DejaVu Sans.\n",
      "findfont: Font family ['serif'] not found. Falling back to DejaVu Sans.\n"
     ]
    },
    {
     "data": {
      "image/png": "[encoded data removed]",
      "text/plain": [
       "<Figure size 480x480 with 1 Axes>"
      ]
     },
     "metadata": {
      "image/png": {
       "height": 398,
       "width": 455
      }
     },
     "output_type": "display_data"
    }
   ],
   "source": [
    "import matplotlib.pyplot as plt\n",
    "plt.rc('font', family='sans-serif')\n",
    "colors = {\n",
    "    \"Type_5\": \"#9DC3E2\",\n",
    "    \"Type_6\": \"#1b7ef7\",\n",
    "    \"Type_3\": \"#a64d79\",\n",
    "    \"Type_4\": \"#12e23f\",\n",
    "    \"Type_1\": \"#f78c1b\",\n",
    "    \"Type_2\": \"#674ea7\",\n",
    "}\n",
    "sankey(SL_t[\"PT_Type\"], SL_t[\"MT_Type\"], aspect=20, fontsize=10,colorDict=colors,)\n",
    "\n",
    "# Get current figure\n",
    "fig = plt.gcf()\n",
    "\n",
    "# Set size in inches\n",
    "fig.set_size_inches(6, 6)\n",
    "\n",
    "# Set the color of the background to white\n",
    "fig.set_facecolor(\"w\")\n",
    "plt.rc('font', family='sans-serif')\n",
    "plt.rcParams['font.serif']=['sans-serif']\n",
    "plt.title('PT-MT')\n",
    "# Save the figure\n",
    "fig.savefig(\"customers-goods.png\", bbox_inches=\"tight\", dpi=300)"
   ]
  },
  {
   "cell_type": "code",
   "execution_count": null,
   "metadata": {
    "id": "bS32aXL1m15w"
   },
   "outputs": [],
   "source": [
    "from google.colab import output\n",
    "output.enable_custom_widget_manager()"
   ]
  },
  {
   "cell_type": "code",
   "execution_count": null,
   "metadata": {
    "id": "WSWVolTPm15w"
   },
   "outputs": [],
   "source": [
    "from google.colab import output\n",
    "output.disable_custom_widget_manager()"
   ]
  }
 ],
 "metadata": {
  "colab": {
   "collapsed_sections": [
    "sw-TQoI1VClT"
   ],
   "machine_shape": "hm",
   "name": "crlm_1.ipynb",
   "provenance": []
  },
  "kernelspec": {
   "display_name": "Python 3 (ipykernel)",
   "language": "python",
   "name": "python3"
  },
  "language_info": {
   "codemirror_mode": {
    "name": "ipython",
    "version": 3
   },
   "file_extension": ".py",
   "mimetype": "text/x-python",
   "name": "python",
   "nbconvert_exporter": "python",
   "pygments_lexer": "ipython3",
   "version": "3.8.12"
  }
 },
 "nbformat": 4,
 "nbformat_minor": 4
}
